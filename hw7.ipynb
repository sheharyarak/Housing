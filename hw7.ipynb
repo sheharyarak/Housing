{
 "cells": [
  {
   "cell_type": "code",
   "execution_count": 96,
   "metadata": {
    "deletable": false,
    "editable": false
   },
   "outputs": [],
   "source": [
    "# Initialize Otter\n",
    "import otter\n",
    "grader = otter.Notebook(\"hw7.ipynb\")"
   ]
  },
  {
   "cell_type": "markdown",
   "metadata": {
    "nbgrader": {
     "grade": false,
     "grade_id": "cell-e0f9b2de18190d9d",
     "locked": true,
     "schema_version": 1,
     "solution": false
    }
   },
   "source": [
    "# Homework 7: Predicting Housing Prices\n",
    "\n",
    "## Due Date: 11:59pm Thursday, March 18th (Tentative)\n",
    "\n",
    "### Collaboration Policy\n",
    "\n",
    "Data science is a collaborative activity. While you may talk with others about the homework, we ask that you **write your solutions individually**. If you do discuss the assignments with others please **include their names** in the collaborators cell below."
   ]
  },
  {
   "cell_type": "markdown",
   "metadata": {},
   "source": [
    "**Collaborators:** *list names here*"
   ]
  },
  {
   "cell_type": "markdown",
   "metadata": {},
   "source": [
    "## Introduction\n",
    "\n",
    "In this homework, we will go through the iterative process of specifying, fitting, and analyzing the performance of a  model.  \n",
    "\n",
    "In the first portion of the assignment, we will guide you through some basic exploratory data analysis (EDA), laying out the thought process that leads to certain modeling decisions. Next, you will be adding a few new features to the dataset, cleaning the data as well in the process. Then, you will specify and fit a linear model to a few features of the housing data to predict housing prices. Finally, we will analyze the error of the model and brainstorm ways to improve the model's performance.\n",
    "\n",
    "After this homework, you should feel comfortable with the following:\n",
    "\n",
    "1. Simple feature engineering\n",
    "1. Using sklearn to build linear models\n",
    "1. Building a data pipeline using pandas\n",
    "\n",
    "## Score Breakdown\n",
    "\n",
    "Question | Part | Points\n",
    "----|----|----\n",
    "0 | 1 | 1\n",
    "0 | 2 | 1\n",
    "1 | 1 | 1\n",
    "1 | 2 | 1\n",
    "2 | 1 | 3\n",
    "2 | 2 | 1\n",
    "2 | 3 | 1\n",
    "3 | 1 | 1\n",
    "3 | 2 | 2\n",
    "4 | 1 | 1\n",
    "4 | 2 | 2\n",
    "4 | 3 | 2\n",
    "5 | 1 | 1\n",
    "5 | 2 | 2\n",
    "5 | 3 | 1\n",
    "5 | 4 | 2\n",
    "5 | 5 | 1\n",
    "6 | 1 | 1\n",
    "6 | 2 | 2\n",
    "7 | 1 | 2\n",
    "7 | 2 | 1\n",
    "7 | 3 | 3\n",
    "7 | 4 | 1 \n",
    "7 | 5 | 2\n",
    "7 | 6 | 1\n",
    "7 | 7 | 2\n",
    "8 | - | 6\n",
    "Total | - | 45"
   ]
  },
  {
   "cell_type": "code",
   "execution_count": 97,
   "metadata": {
    "nbgrader": {
     "grade": false,
     "grade_id": "cell-62cfd21463535cac",
     "locked": true,
     "schema_version": 1,
     "solution": false
    }
   },
   "outputs": [],
   "source": [
    "import numpy as np\n",
    "\n",
    "import pandas as pd\n",
    "from pandas.api.types import CategoricalDtype\n",
    "\n",
    "%matplotlib inline\n",
    "import matplotlib.pyplot as plt\n",
    "import seaborn as sns\n",
    "\n",
    "import warnings\n",
    "warnings.filterwarnings(\"ignore\")\n",
    "\n",
    "import zipfile\n",
    "import os\n",
    "\n",
    "from ds100_utils import run_linear_regression_test\n",
    "\n",
    "# Plot settings\n",
    "plt.rcParams['figure.figsize'] = (12, 9)\n",
    "plt.rcParams['font.size'] = 12"
   ]
  },
  {
   "cell_type": "markdown",
   "metadata": {
    "nbgrader": {
     "grade": false,
     "grade_id": "cell-f68729731e7fe39d",
     "locked": true,
     "schema_version": 1,
     "solution": false
    }
   },
   "source": [
    "# The Data\n",
    "\n",
    "The dataset you’ll be working with comes from the Cook County Assessor’s Office (CCAO) in Illinois, a government institution that determines property taxes across most of Chicago’s metropolitan area and its nearby suburbs. In the United States, all property owners are required to pay property taxes, which are then used to fund public services including education, road maintenance, and sanitation. These property tax assessments are based on property values estimated using statistical models that consider multiple factors, such as real estate value and construction cost.\n",
    "\n",
    "The CCAO dataset consists of over 500 thousand records describing houses sold in Cook County in recent years (new records are still coming in every week!). The data set we will be working with has 61 features in total. An explanation of each variable can be found in the included `codebook.txt` file. Some of the columns have been filtered out to ensure this assignment doesn't become overly long when dealing with data cleaning and formatting.\n",
    "\n",
    "The data are split into training and test sets with 204792 and 68264 observations, respectively.\n",
    "\n",
    "Let's first extract the data from the `cook_county_data.zip`. Notice we didn't leave the `csv` files directly in the directory because they take up too much space without some prior compression."
   ]
  },
  {
   "cell_type": "code",
   "execution_count": 98,
   "metadata": {},
   "outputs": [],
   "source": [
    "with zipfile.ZipFile('cook_county_data.zip') as item:\n",
    "    item.extractall()"
   ]
  },
  {
   "cell_type": "markdown",
   "metadata": {},
   "source": [
    "Let's load the training and test data."
   ]
  },
  {
   "cell_type": "code",
   "execution_count": 99,
   "metadata": {
    "nbgrader": {
     "grade": false,
     "grade_id": "cell-e8fea30adc9d489b",
     "locked": true,
     "schema_version": 1,
     "solution": false
    }
   },
   "outputs": [],
   "source": [
    "training_data = pd.read_csv(\"cook_county_train.csv\", index_col='Unnamed: 0')\n",
    "test_data = pd.read_csv(\"cook_county_test.csv\", index_col='Unnamed: 0')"
   ]
  },
  {
   "cell_type": "markdown",
   "metadata": {
    "nbgrader": {
     "grade": false,
     "grade_id": "cell-9d6d509b6e854e10",
     "locked": true,
     "schema_version": 1,
     "solution": false
    }
   },
   "source": [
    "As a good sanity check, we should at least verify that the data shape matches the description."
   ]
  },
  {
   "cell_type": "code",
   "execution_count": 100,
   "metadata": {
    "nbgrader": {
     "grade": false,
     "grade_id": "cell-c841a2de55691502",
     "locked": true,
     "schema_version": 1,
     "solution": false
    }
   },
   "outputs": [],
   "source": [
    "# 206032 observations and 68 features in training data\n",
    "assert training_data.shape == (204792, 62)\n",
    "# 68678 observations and 68 features in test data\n",
    "assert test_data.shape == (68264, 61)\n",
    "# Sale Price is provided in the training data\n",
    "assert 'Sale Price' in training_data.columns.values\n",
    "# Sale Price is hidden in the test data\n",
    "assert 'Sale Price' not in test_data.columns.values"
   ]
  },
  {
   "cell_type": "markdown",
   "metadata": {
    "nbgrader": {
     "grade": false,
     "grade_id": "cell-ce9acc2f62c96e59",
     "locked": true,
     "schema_version": 1,
     "solution": false
    }
   },
   "source": [
    "The next order of business is getting a feel for the variables in our data.  The Cook County data set contains information that typical homebuyers would want to know.  A more detailed description of each variable is included in `codebook.txt` (in the same directory as this notebook).  **You should take some time to familiarize yourself with the codebook before moving forward.**\n",
    "\n",
    "Let's take a quick look at all the current columns in our training data."
   ]
  },
  {
   "cell_type": "code",
   "execution_count": 101,
   "metadata": {
    "nbgrader": {
     "grade": false,
     "grade_id": "cell-4e60a7a0cda5eecf",
     "locked": true,
     "schema_version": 1,
     "solution": false
    }
   },
   "outputs": [
    {
     "data": {
      "text/plain": [
       "array(['PIN', 'Property Class', 'Neighborhood Code', 'Land Square Feet',\n",
       "       'Town Code', 'Apartments', 'Wall Material', 'Roof Material',\n",
       "       'Basement', 'Basement Finish', 'Central Heating', 'Other Heating',\n",
       "       'Central Air', 'Fireplaces', 'Attic Type', 'Attic Finish',\n",
       "       'Design Plan', 'Cathedral Ceiling', 'Construction Quality',\n",
       "       'Site Desirability', 'Garage 1 Size', 'Garage 1 Material',\n",
       "       'Garage 1 Attachment', 'Garage 1 Area', 'Garage 2 Size',\n",
       "       'Garage 2 Material', 'Garage 2 Attachment', 'Garage 2 Area',\n",
       "       'Porch', 'Other Improvements', 'Building Square Feet',\n",
       "       'Repair Condition', 'Multi Code', 'Number of Commercial Units',\n",
       "       'Estimate (Land)', 'Estimate (Building)', 'Deed No.', 'Sale Price',\n",
       "       'Longitude', 'Latitude', 'Census Tract',\n",
       "       'Multi Property Indicator', 'Modeling Group', 'Age', 'Use',\n",
       "       \"O'Hare Noise\", 'Floodplain', 'Road Proximity', 'Sale Year',\n",
       "       'Sale Quarter', 'Sale Half-Year', 'Sale Quarter of Year',\n",
       "       'Sale Month of Year', 'Sale Half of Year', 'Most Recent Sale',\n",
       "       'Age Decade', 'Pure Market Filter', 'Garage Indicator',\n",
       "       'Neigborhood Code (mapping)', 'Town and Neighborhood',\n",
       "       'Description', 'Lot Size'], dtype=object)"
      ]
     },
     "execution_count": 101,
     "metadata": {},
     "output_type": "execute_result"
    }
   ],
   "source": [
    "training_data.columns.values"
   ]
  },
  {
   "cell_type": "markdown",
   "metadata": {
    "deletable": false,
    "editable": false
   },
   "source": [
    "<!-- BEGIN QUESTION -->\n",
    "\n",
    "# Part 0: Background\n",
    "\n",
    "Let's try to understand the background of our dataset before diving into a full-scale analysis. \n",
    "\n",
    "## Question 0\n",
    "\n",
    "### Part 1\n",
    "\n",
    "Given that this data compiled by the CCAO (as opposed to other assessor’s offices), find a column that would most likely only be collected in Cook County. What does this column represent?\n",
    "\n",
    "<!--\n",
    "BEGIN QUESTION\n",
    "name: q0i\n",
    "points: 1\n",
    "manual: True\n",
    "-->"
   ]
  },
  {
   "cell_type": "markdown",
   "metadata": {},
   "source": [
    "The 'Town and Neighbourhood' column would be unique to Cook County because other Counties would have different neighborhoods and towns."
   ]
  },
  {
   "cell_type": "markdown",
   "metadata": {
    "deletable": false,
    "editable": false
   },
   "source": [
    "<!-- END QUESTION -->\n",
    "\n",
    "<!-- BEGIN QUESTION -->\n",
    "\n",
    "### Part 2\n",
    "\n",
    "Name a feature that isn't listed in this dataset but may be useful for predicting sales values. What insights could this feature provide? How might it increase or decrease a home’s sales value?\n",
    "\n",
    "<!--\n",
    "BEGIN QUESTION\n",
    "name: q0ii\n",
    "points: 1\n",
    "manual: True\n",
    "-->"
   ]
  },
  {
   "cell_type": "markdown",
   "metadata": {},
   "source": [
    "Pool sqft - size of the swimming pool in square feet. defaults to 0 if there is no swimming pool. It might increase the home's value if the swimming pool is built well."
   ]
  },
  {
   "cell_type": "markdown",
   "metadata": {
    "nbgrader": {
     "grade": false,
     "grade_id": "cell-ba0f6926b0dafefb",
     "locked": true,
     "schema_version": 1,
     "solution": false
    }
   },
   "source": [
    "<!-- END QUESTION -->\n",
    "\n",
    "\n",
    "\n",
    "# Part 1: Exploratory Data Analysis\n",
    "\n",
    "In this section, we will make a series of exploratory visualizations and interpret them.\n",
    "\n",
    "Note that we will perform EDA on the **training data** so that information from the test data does not influence our modeling decisions.\n",
    "\n",
    "### Sale Price\n",
    "We begin by examining the distribution of our target variable `SalePrice`.  At the same time, we also take a look at some descriptive statistics of this variable. We have provided the following helper method `plot_distribution` that you can use to visualize the distribution of the SalePrice using both the histogram and the box plot at the same time. Run the following 2 cells and describe what you think is wrong with the visualization."
   ]
  },
  {
   "cell_type": "code",
   "execution_count": 102,
   "metadata": {
    "nbgrader": {
     "grade": false,
     "grade_id": "cell-15d483a695655cea",
     "locked": true,
     "schema_version": 1,
     "solution": false
    }
   },
   "outputs": [],
   "source": [
    "def plot_distribution(data, label):\n",
    "    fig, axs = plt.subplots(nrows=2)\n",
    "\n",
    "    sns.distplot(\n",
    "        data[label], \n",
    "        ax=axs[0]\n",
    "    )\n",
    "    sns.boxplot(\n",
    "        data[label],\n",
    "        width=0.3, \n",
    "        ax=axs[1],\n",
    "        showfliers=False,\n",
    "    )\n",
    "\n",
    "    # Align axes\n",
    "    spacer = np.max(data[label]) * 0.05\n",
    "    xmin = np.min(data[label]) - spacer\n",
    "    xmax = np.max(data[label]) + spacer\n",
    "    axs[0].set_xlim((xmin, xmax))\n",
    "    axs[1].set_xlim((xmin, xmax))\n",
    "\n",
    "    # Remove some axis text\n",
    "    axs[0].xaxis.set_visible(False)\n",
    "    axs[0].yaxis.set_visible(False)\n",
    "    axs[1].yaxis.set_visible(False)\n",
    "\n",
    "    # Put the two plots together\n",
    "    plt.subplots_adjust(hspace=0)\n",
    "\n",
    "    # Adjust boxplot fill to be white\n",
    "    axs[1].artists[0].set_facecolor('white')"
   ]
  },
  {
   "cell_type": "code",
   "execution_count": 103,
   "metadata": {},
   "outputs": [
    {
     "data": {
      "image/png": "[encoded data removed]",
      "text/plain": [
       "<Figure size 864x648 with 2 Axes>"
      ]
     },
     "metadata": {
      "needs_background": "light"
     },
     "output_type": "display_data"
    }
   ],
   "source": [
    "plot_distribution(training_data, label='Sale Price')"
   ]
  },
  {
   "cell_type": "markdown",
   "metadata": {
    "deletable": false,
    "editable": false
   },
   "source": [
    "<!-- BEGIN QUESTION -->\n",
    "\n",
    "## Question 1\n",
    "\n",
    "### Part 1\n",
    "\n",
    "Identify one issue with the visualization above and briefly describe one way to overcome it. You may also want to try running `training_data['Sale Price'].describe()` in a different cell to see some specific summary statistics on the distribution of the target variable. Make sure to delete the cell afterwards as the autograder may not work otherwise.\n",
    "\n",
    "<!--\n",
    "BEGIN QUESTION\n",
    "name: q1i\n",
    "points: 1\n",
    "manual: True\n",
    "-->"
   ]
  },
  {
   "cell_type": "code",
   "execution_count": 104,
   "metadata": {},
   "outputs": [
    {
     "data": {
      "text/plain": [
       "count    2.047920e+05\n",
       "mean     2.451646e+05\n",
       "std      3.628694e+05\n",
       "min      1.000000e+00\n",
       "25%      4.520000e+04\n",
       "50%      1.750000e+05\n",
       "75%      3.120000e+05\n",
       "max      7.100000e+07\n",
       "Name: Sale Price, dtype: float64"
      ]
     },
     "execution_count": 104,
     "metadata": {},
     "output_type": "execute_result"
    }
   ],
   "source": [
    "training_data['Sale Price'].describe()"
   ]
  },
  {
   "cell_type": "markdown",
   "metadata": {},
   "source": [
    "Well the above visualization is uninterperatable. We could take the log of the sale price to overcome it?"
   ]
  },
  {
   "cell_type": "markdown",
   "metadata": {
    "deletable": false,
    "editable": false
   },
   "source": [
    "<!-- END QUESTION -->\n",
    "\n",
    "### Part 2\n",
    "\n",
    "To zoom in on the visualization of most households, we will focus only on a subset of `Sale Price` for this assignment. In addition, it may be a good idea to apply log transformation to `Sale Price`. In the cell below, reassign a new dataframe that is the same as the original one to `training_data` **except with the following changes**:\n",
    "\n",
    "- `training_data` should contain only households whose price is at least $500.\n",
    "- `training_data` should contain a new `Log Sale Price` column that contains the log-transformed sale prices.\n",
    "\n",
    "**Note**: This also implies from now on, our target variable in the model will be the log transformed sale prices from the column `Log Sale Price`. \n",
    "\n",
    "**Note**: You should **NOT** remove the original column `Sale Price` as it will be helpful for later questions.\n",
    "\n",
    "*To ensure that any error from this part does not propagate to later questions, there will be no hidden test here.*\n",
    "\n",
    "\n",
    "<!--\n",
    "BEGIN QUESTION\n",
    "name: q1ii\n",
    "points: 1\n",
    "-->"
   ]
  },
  {
   "cell_type": "code",
   "execution_count": 105,
   "metadata": {},
   "outputs": [
    {
     "data": {
      "text/plain": [
       "2055590.7351105125"
      ]
     },
     "execution_count": 105,
     "metadata": {},
     "output_type": "execute_result"
    }
   ],
   "source": [
    "training_data = training_data.loc[training_data['Sale Price'] >= 500]\n",
    "training_data['Log Sale Price'] = training_data['Sale Price'].apply(np.log)\n",
    "np.sum(training_data['Log Sale Price'])"
   ]
  },
  {
   "cell_type": "code",
   "execution_count": 106,
   "metadata": {
    "deletable": false,
    "editable": false
   },
   "outputs": [
    {
     "data": {
      "text/html": [
       "\n",
       "    <p><strong>q1ii</strong> passed!</p>\n",
       "    "
      ],
      "text/plain": [
       "q1ii passed!"
      ]
     },
     "execution_count": 106,
     "metadata": {},
     "output_type": "execute_result"
    }
   ],
   "source": [
    "grader.check(\"q1ii\")"
   ]
  },
  {
   "cell_type": "markdown",
   "metadata": {},
   "source": [
    "Let's create a new distribution plot on the log-transformed sale price."
   ]
  },
  {
   "cell_type": "code",
   "execution_count": 107,
   "metadata": {},
   "outputs": [
    {
     "data": {
      "image/png": "[encoded data removed]",
      "text/plain": [
       "<Figure size 864x648 with 2 Axes>"
      ]
     },
     "metadata": {
      "needs_background": "light"
     },
     "output_type": "display_data"
    }
   ],
   "source": [
    "plot_distribution(training_data, label='Log Sale Price');"
   ]
  },
  {
   "cell_type": "markdown",
   "metadata": {
    "deletable": false,
    "editable": false,
    "nbgrader": {
     "grade": false,
     "grade_id": "cell-592d5f41ebd67ee2",
     "locked": true,
     "schema_version": 1,
     "solution": false
    }
   },
   "source": [
    "## Question 2 \n",
    "\n",
    "### Part 1\n",
    "To check your understanding of the graph and summary statistics above, answer the following `True` or `False` questions:\n",
    "\n",
    "1. The distribution of `Log Sale Price` in the training set is left-skewed.\n",
    "1. The mean of `Log Sale Price` in the training set is greater than the median.\n",
    "1. At least 25% of the houses in the training set sold for more than \\$200,000.00.\n",
    "\n",
    "*The provided tests for this question do not confirm that you have answered correctly; only that you have assigned each variable to `True` or `False`.*\n",
    "\n",
    "<!--\n",
    "BEGIN QUESTION\n",
    "name: q2i\n",
    "points: 3\n",
    "-->"
   ]
  },
  {
   "cell_type": "code",
   "execution_count": 108,
   "metadata": {},
   "outputs": [
    {
     "name": "stdout",
     "output_type": "stream",
     "text": [
      "12.168226880267756\n",
      "12.2783933071098\n",
      "121000.0\n"
     ]
    }
   ],
   "source": [
    "print(np.mean(training_data['Log Sale Price']))\n",
    "print(np.median(training_data['Log Sale Price']))\n",
    "print(np.percentile(training_data['Sale Price'], 25))"
   ]
  },
  {
   "cell_type": "code",
   "execution_count": 109,
   "metadata": {
    "nbgrader": {
     "grade": false,
     "grade_id": "q1-answer",
     "locked": false,
     "schema_version": 1,
     "solution": true
    }
   },
   "outputs": [],
   "source": [
    "# These should be True or False\n",
    "q2statement1 = False\n",
    "q2statement2 = False\n",
    "q2statement3 = False"
   ]
  },
  {
   "cell_type": "code",
   "execution_count": 110,
   "metadata": {
    "deletable": false,
    "editable": false
   },
   "outputs": [
    {
     "data": {
      "text/html": [
       "\n",
       "    <p><strong>q2i</strong> passed!</p>\n",
       "    "
      ],
      "text/plain": [
       "q2i passed!"
      ]
     },
     "execution_count": 110,
     "metadata": {},
     "output_type": "execute_result"
    }
   ],
   "source": [
    "grader.check(\"q2i\")"
   ]
  },
  {
   "cell_type": "markdown",
   "metadata": {
    "deletable": false,
    "editable": false,
    "nbgrader": {
     "grade": false,
     "grade_id": "cell-9e22aac9b45f88e3",
     "locked": true,
     "schema_version": 1,
     "solution": false
    }
   },
   "source": [
    "### Part 2\n",
    "\n",
    "Next, we want to explore if any there is any correlation between `Log Sale Price` and the total area occupied by the household. The `codebook.txt` file tells us the column `Building Square Feet` should do the trick -- it measures \"(from the exterior) the total area, in square feet, occupied by the building\".\n",
    "\n",
    "Before creating this jointplot however, let's also apply a log transformation to the `Building Square Feet` column.\n",
    "\n",
    "In the following cell, create a new column `Log Building Square Feet` in our training data that contains the log transformed area occupied by each household. \n",
    "\n",
    "**You should NOT remove the original `Building Square Feet` column this time as it will be used for later questions**. \n",
    "\n",
    "*To ensure that any errors from this part do not propagate to later questions, there will be no hidden tests here.*\n",
    "\n",
    "<!--\n",
    "BEGIN QUESTION\n",
    "name: q2ii\n",
    "points: 1\n",
    "-->"
   ]
  },
  {
   "cell_type": "code",
   "execution_count": 111,
   "metadata": {},
   "outputs": [],
   "source": [
    "training_data['Log Building Square Feet'] = training_data['Building Square Feet'].apply(np.log)"
   ]
  },
  {
   "cell_type": "code",
   "execution_count": 112,
   "metadata": {
    "deletable": false,
    "editable": false
   },
   "outputs": [
    {
     "data": {
      "text/html": [
       "\n",
       "    <p><strong>q2ii</strong> passed!</p>\n",
       "    "
      ],
      "text/plain": [
       "q2ii passed!"
      ]
     },
     "execution_count": 112,
     "metadata": {},
     "output_type": "execute_result"
    }
   ],
   "source": [
    "grader.check(\"q2ii\")"
   ]
  },
  {
   "cell_type": "markdown",
   "metadata": {
    "deletable": false,
    "editable": false
   },
   "source": [
    "<!-- BEGIN QUESTION -->\n",
    "\n",
    "### Part 3\n",
    "\n",
    "As shown below, we created a joint plot with `Log Building Square Feet` on the x-axis, and `Log Sale Price` on the y-axis. In addition, we fit a simple linear regression line through the bivariate scatter plot in the middle.\n",
    "\n",
    "Based on the following plot, does there exist a correlation between `Log Sale Price` and `Log Building Square Feet`? Would `Log Building Square Feet` make a good candidate as one of the features for our model?\n",
    "\n",
    "![Joint Plot](images/q2p3_jointplot.png)\n",
    "\n",
    "<!--\n",
    "BEGIN QUESTION\n",
    "name: q2iii\n",
    "points: 1\n",
    "manual: True\n",
    "-->"
   ]
  },
  {
   "cell_type": "markdown",
   "metadata": {},
   "source": [
    "Yes they are kind of related, I would not say that it would make a good candidate for our model but it would be a decent candidate to use among others."
   ]
  },
  {
   "cell_type": "markdown",
   "metadata": {
    "deletable": false,
    "editable": false,
    "nbgrader": {
     "grade": false,
     "grade_id": "cell-e69fbfdd6101f836",
     "locked": true,
     "schema_version": 1,
     "solution": false
    }
   },
   "source": [
    "<!-- END QUESTION -->\n",
    "\n",
    "\n",
    "## Question 3 <a name=\"q2\"></a>\n",
    "\n",
    "### Part 1\n",
    "\n",
    "Although log transformation seems to have done quite a neat job of bringing the dataset closer together, let's still explore some of the outliers in the distribution of `Building Square Feet`. \n",
    "\n",
    "What are the Permanent Indentification Numbers (`PIN`) for the houses with `Building Square Feet` **strictly greater than 8000 sqft**? Assign `q2houses` with a numpy array that contains the PINs for all such houses.\n",
    "\n",
    "*The provided tests for this question do not confirm that you have answered correctly; only that you have assigned `q2houses` a numpy array and it contains valid PINs.*\n",
    "\n",
    "<!--\n",
    "BEGIN QUESTION\n",
    "name: q3i\n",
    "points: 1\n",
    "-->"
   ]
  },
  {
   "cell_type": "code",
   "execution_count": 113,
   "metadata": {
    "nbgrader": {
     "grade": false,
     "grade_id": "cell-eb0c9f329767dfc2",
     "locked": false,
     "schema_version": 1,
     "solution": true
    }
   },
   "outputs": [
    {
     "data": {
      "text/plain": [
       "array([ 4262000290000,  5161050080000,  5214120120000,  1221050020000,\n",
       "        4014120690000,  5204000540000,  5271030010000,  5081040120000,\n",
       "        5062000020000,  5291010200000,  5172030380000, 11192120060000,\n",
       "        5204070540000, 18191030700000,  1021000200000, 22241070040000,\n",
       "        1023000520000,  1352050090000,  1341010210000,  1273090020000,\n",
       "        4073000160000,  1034000110000,  1221050430000, 21302010470000,\n",
       "       18314020170000,  5214030240000, 18071110180000,  4244120190000,\n",
       "       23304020090000, 11192120060000,  4142001400000, 18191030700000,\n",
       "        1221050220000,  1073000220000, 20111000470000,  4262031170000,\n",
       "        1264050080000, 11201000070000,  4173000540000,  4061020350000,\n",
       "        5161010160000,  5291010310000, 20111150080000,  5173130050000,\n",
       "        5064040400000, 11192020240000, 11192250190000,  1344040200000,\n",
       "        5291030280000,  4241000560000, 31074050920000,  5081030020000,\n",
       "        1351010240000, 18313060190000,  4174200110000,  1273000110000,\n",
       "        1264040020000, 20111150080000, 28054030140000, 17083260070000,\n",
       "        1061000050000,  4142001330000,  1032000330000,  1264040150000,\n",
       "        1032000340000,  1181010160000, 14283210350000,  1031000260000,\n",
       "       22343000300000,  4244130670000,  1341050090000, 20111120090000,\n",
       "        1341060160000,  4162170100000, 20111070310000,  1344040110000,\n",
       "        4251001330000,  1224000870000,  5293010060000,  4014120690000,\n",
       "        5064060550000,  4113030140000,  1344040110000,  1273080020000,\n",
       "       18314020170000,  4142001490000,  1112020110000, 27074060100000,\n",
       "        5172000890000,  1092040220000,  1032000490000,  5064060550000,\n",
       "        4114030350000,  5161010030000,  4234010180000,  4362000660000,\n",
       "        2073040120000,  5081030020000,  1344040010000,  1191010030000,\n",
       "        5204070110000,  4031030230000, 16063250190000,  1262080010000,\n",
       "        1273080020000,  4142010110000,  4251000550000,  1134010060000,\n",
       "        1031010330000])"
      ]
     },
     "execution_count": 113,
     "metadata": {},
     "output_type": "execute_result"
    }
   ],
   "source": [
    "# Hint: You can answer this question in one line\n",
    "q2houses = np.array(training_data.loc[training_data['Building Square Feet'] > 8000, 'PIN'])\n",
    "q2houses\n",
    "# isinstance(q2houses, np.ndarray)"
   ]
  },
  {
   "cell_type": "code",
   "execution_count": 114,
   "metadata": {
    "deletable": false,
    "editable": false
   },
   "outputs": [
    {
     "data": {
      "text/html": [
       "\n",
       "    <p><strong>q3i</strong> passed!</p>\n",
       "    "
      ],
      "text/plain": [
       "q3i passed!"
      ]
     },
     "execution_count": 114,
     "metadata": {},
     "output_type": "execute_result"
    }
   ],
   "source": [
    "grader.check(\"q3i\")"
   ]
  },
  {
   "cell_type": "markdown",
   "metadata": {
    "deletable": false,
    "editable": false,
    "nbgrader": {
     "grade": false,
     "grade_id": "cell-bf7fe5dcd37df6f9",
     "locked": true,
     "schema_version": 1,
     "solution": false
    }
   },
   "source": [
    "### Part 2\n",
    "\n",
    "Continuing from the previous part, as you explore the data set, you might still run into more outliers that prevent you from creating a clear visualization or capturing the trend of the majority of the houses. \n",
    "\n",
    "For this assignment, we will work to remove these outliers from the data as we run into them. Write a function `remove_outliers` that removes outliers from a data set based off a threshold value of a variable.  For example, `remove_outliers(training_data, 'Building Square Feet', upper=8000)` should return a data frame with only observations that satisfy `Building Square Feet` less than or equal to 8000.\n",
    "\n",
    "*The provided tests check that training_data was updated correctly, so that future analyses are not corrupted by a mistake. However, the provided tests do not check that you have implemented remove_outliers correctly so that it works with any data, variable, lower, and upper bound.*\n",
    "\n",
    "<!--\n",
    "BEGIN QUESTION\n",
    "name: q3ii\n",
    "points: 2\n",
    "-->"
   ]
  },
  {
   "cell_type": "code",
   "execution_count": 115,
   "metadata": {
    "nbgrader": {
     "grade": false,
     "grade_id": "cell-9186ec2ca053d0aa",
     "locked": false,
     "schema_version": 1,
     "solution": true
    }
   },
   "outputs": [],
   "source": [
    "def remove_outliers(data, variable, lower=-np.inf, upper=np.inf):\n",
    "    \"\"\"\n",
    "    Input:\n",
    "      data (data frame): the table to be filtered\n",
    "      variable (string): the column with numerical outliers\n",
    "      lower (numeric): observations with values lower than this will be removed\n",
    "      upper (numeric): observations with values higher than this will be removed\n",
    "    \n",
    "    Output:\n",
    "      a winsorized data frame with outliers removed\n",
    "      \n",
    "    Note: This function should not change mutate the contents of data.\n",
    "    \"\"\"  \n",
    "    return data.loc[((data[variable] >= lower) & (data[variable] <= upper))]"
   ]
  },
  {
   "cell_type": "code",
   "execution_count": 116,
   "metadata": {
    "deletable": false,
    "editable": false
   },
   "outputs": [
    {
     "data": {
      "text/html": [
       "\n",
       "    <p><strong>q3ii</strong> passed!</p>\n",
       "    "
      ],
      "text/plain": [
       "q3ii passed!"
      ]
     },
     "execution_count": 116,
     "metadata": {},
     "output_type": "execute_result"
    }
   ],
   "source": [
    "grader.check(\"q3ii\")"
   ]
  },
  {
   "cell_type": "markdown",
   "metadata": {
    "deletable": false,
    "editable": false
   },
   "source": [
    "# Part 2: Feature Engineering\n",
    "\n",
    "In this section we will walk you through a few feature engineering techniques. \n",
    "\n",
    "### Bedrooms\n",
    "\n",
    "Let's start simple by extracting the total number of bathrooms as our first feature for the model. You may notice that the `Bedrooms` column doesn't actually exist in the original dataframe! Instead, it is part of the `Description` column.\n",
    "\n",
    "## Question 4 <a name=\"q4\"></a>\n",
    "\n",
    "### Part 1\n",
    "\n",
    "Let's take a closer look at the `Description` column first. Compare the description across a few rows together at the same time. For the following list of variables, how many of them can be extracted from the `Description` column? Assign your answer as an integer to the variable `q4a`.\n",
    "- The date the property was sold on\n",
    "- The number of stories the property contains\n",
    "- The previous owner of the property\n",
    "- The address of the property\n",
    "- The number of garages the property has\n",
    "- The total number of rooms inside the property\n",
    "- The total number of bedrooms inside the property\n",
    "- The total number of bathrooms inside the property\n",
    "\n",
    "\n",
    "<!--\n",
    "BEGIN QUESTION\n",
    "name: q4i\n",
    "points: 1\n",
    "-->"
   ]
  },
  {
   "cell_type": "code",
   "execution_count": 117,
   "metadata": {},
   "outputs": [
    {
     "data": {
      "text/plain": [
       "'This property, sold on 05/23/2018, is a one-story houeshold located at 2844 N LOWELL AVE.It has a total of 6 rooms, 3 of which are bedrooms, and 1.0 of which are bathrooms.'"
      ]
     },
     "execution_count": 117,
     "metadata": {},
     "output_type": "execute_result"
    }
   ],
   "source": [
    "training_data['Description'].iloc[0]"
   ]
  },
  {
   "cell_type": "code",
   "execution_count": 118,
   "metadata": {},
   "outputs": [
    {
     "data": {
      "text/plain": [
       "'This property, sold on 02/18/2016, is a one-story houeshold located at 11415 S PRAIRIE AVE.It has a total of 7 rooms, 3 of which are bedrooms, and 1.0 of which are bathrooms.'"
      ]
     },
     "execution_count": 118,
     "metadata": {},
     "output_type": "execute_result"
    }
   ],
   "source": [
    "training_data['Description'].iloc[1]"
   ]
  },
  {
   "cell_type": "code",
   "execution_count": 119,
   "metadata": {},
   "outputs": [
    {
     "data": {
      "text/plain": [
       "'This property, sold on 07/23/2013, is a one-story with partially livable attics houeshold located at 2012 DOBSON ST.It has a total of 5 rooms, 3 of which are bedrooms, and 1.5 of which are bathrooms.'"
      ]
     },
     "execution_count": 119,
     "metadata": {},
     "output_type": "execute_result"
    }
   ],
   "source": [
    "training_data['Description'].iloc[2]"
   ]
  },
  {
   "cell_type": "code",
   "execution_count": 120,
   "metadata": {},
   "outputs": [
    {
     "data": {
      "text/plain": [
       "'This property, sold on 06/10/2016, is a one-story houeshold located at 104 SAUK TRL.It has a total of 5 rooms, 2 of which are bedrooms, and 1.0 of which are bathrooms.'"
      ]
     },
     "execution_count": 120,
     "metadata": {},
     "output_type": "execute_result"
    }
   ],
   "source": [
    "training_data['Description'].iloc[3]"
   ]
  },
  {
   "cell_type": "code",
   "execution_count": 121,
   "metadata": {},
   "outputs": [],
   "source": [
    "q4a = 6\n"
   ]
  },
  {
   "cell_type": "code",
   "execution_count": 122,
   "metadata": {
    "deletable": false,
    "editable": false
   },
   "outputs": [
    {
     "data": {
      "text/html": [
       "\n",
       "    <p><strong>q4i</strong> passed!</p>\n",
       "    "
      ],
      "text/plain": [
       "q4i passed!"
      ]
     },
     "execution_count": 122,
     "metadata": {},
     "output_type": "execute_result"
    }
   ],
   "source": [
    "grader.check(\"q4i\")"
   ]
  },
  {
   "cell_type": "markdown",
   "metadata": {
    "deletable": false,
    "editable": false
   },
   "source": [
    "### Part 2\n",
    "\n",
    "Write a function `add_total_bedrooms(data)` that returns a copy of `data` with an additional column called `Bedrooms` that contains the total number of bathrooms (as integers) for each house. **Treat missing values as zeros if necessary**. Remember that you can make use of vectorized code here; you shouldn't need any `for` statements. \n",
    "\n",
    "**Hint**: You should consider inspecting the `Description` column to figure out if there is any general structure within the text. Once you have noticed a certain pattern, you are set with the power of Regex!\n",
    "\n",
    "<!--\n",
    "BEGIN QUESTION\n",
    "name: q4ii\n",
    "points: 2\n",
    "-->"
   ]
  },
  {
   "cell_type": "code",
   "execution_count": 123,
   "metadata": {},
   "outputs": [],
   "source": [
    "def add_total_bedrooms(data):\n",
    "    \"\"\"\n",
    "    Input:\n",
    "      data (data frame): a data frame containing at least the Description column.\n",
    "    \"\"\"\n",
    "    with_rooms = data.copy()\n",
    "    with_rooms['Bedrooms'] = with_rooms['Description'].str.extract(r'(\\d+) of which are bedrooms').astype(int).fillna(0)\n",
    "    return with_rooms\n",
    "\n",
    "training_data = add_total_bedrooms(training_data)"
   ]
  },
  {
   "cell_type": "code",
   "execution_count": 124,
   "metadata": {
    "deletable": false,
    "editable": false
   },
   "outputs": [
    {
     "data": {
      "text/html": [
       "\n",
       "    <p><strong>q4ii</strong> passed!</p>\n",
       "    "
      ],
      "text/plain": [
       "q4ii passed!"
      ]
     },
     "execution_count": 124,
     "metadata": {},
     "output_type": "execute_result"
    }
   ],
   "source": [
    "grader.check(\"q4ii\")"
   ]
  },
  {
   "cell_type": "code",
   "execution_count": 125,
   "metadata": {},
   "outputs": [
    {
     "data": {
      "text/plain": [
       "Index(['PIN', 'Property Class', 'Neighborhood Code', 'Land Square Feet',\n",
       "       'Town Code', 'Apartments', 'Wall Material', 'Roof Material', 'Basement',\n",
       "       'Basement Finish', 'Central Heating', 'Other Heating', 'Central Air',\n",
       "       'Fireplaces', 'Attic Type', 'Attic Finish', 'Design Plan',\n",
       "       'Cathedral Ceiling', 'Construction Quality', 'Site Desirability',\n",
       "       'Garage 1 Size', 'Garage 1 Material', 'Garage 1 Attachment',\n",
       "       'Garage 1 Area', 'Garage 2 Size', 'Garage 2 Material',\n",
       "       'Garage 2 Attachment', 'Garage 2 Area', 'Porch', 'Other Improvements',\n",
       "       'Building Square Feet', 'Repair Condition', 'Multi Code',\n",
       "       'Number of Commercial Units', 'Estimate (Land)', 'Estimate (Building)',\n",
       "       'Deed No.', 'Sale Price', 'Longitude', 'Latitude', 'Census Tract',\n",
       "       'Multi Property Indicator', 'Modeling Group', 'Age', 'Use',\n",
       "       'O'Hare Noise', 'Floodplain', 'Road Proximity', 'Sale Year',\n",
       "       'Sale Quarter', 'Sale Half-Year', 'Sale Quarter of Year',\n",
       "       'Sale Month of Year', 'Sale Half of Year', 'Most Recent Sale',\n",
       "       'Age Decade', 'Pure Market Filter', 'Garage Indicator',\n",
       "       'Neigborhood Code (mapping)', 'Town and Neighborhood', 'Description',\n",
       "       'Lot Size', 'Log Sale Price', 'Log Building Square Feet', 'Bedrooms'],\n",
       "      dtype='object')"
      ]
     },
     "execution_count": 125,
     "metadata": {},
     "output_type": "execute_result"
    }
   ],
   "source": [
    "training_data.columns"
   ]
  },
  {
   "cell_type": "code",
   "execution_count": 126,
   "metadata": {},
   "outputs": [
    {
     "data": {
      "text/plain": [
       "1         3\n",
       "2         3\n",
       "3         3\n",
       "4         2\n",
       "6         4\n",
       "         ..\n",
       "204787    2\n",
       "204788    4\n",
       "204789    3\n",
       "204790    3\n",
       "204791    2\n",
       "Name: Bedrooms, Length: 168931, dtype: int64"
      ]
     },
     "execution_count": 126,
     "metadata": {},
     "output_type": "execute_result"
    }
   ],
   "source": [
    "training_data['Bedrooms']"
   ]
  },
  {
   "cell_type": "markdown",
   "metadata": {
    "deletable": false,
    "editable": false
   },
   "source": [
    "<!-- BEGIN QUESTION -->\n",
    "\n",
    "### Part 3\n",
    "\n",
    "Create a visualization that clearly and succintly shows if there exists an association between  `Bedrooms` and `Log Sale Price`. A good visualization should satisfy the following requirements:\n",
    "- It should avoid overplotting.\n",
    "- It should have clearly labeled axes and succinct title.\n",
    "- It should convey the strength of the correlation between the sale price and the number of rooms. \n",
    "\n",
    "**Hint**: A direct scatter plot of the sale price against the number of rooms for all of the households in our training data might risk overplotting.\n",
    "\n",
    "<!--\n",
    "BEGIN QUESTION\n",
    "name: q4iii\n",
    "points: 2\n",
    "manual: True\n",
    "format: image\n",
    "-->"
   ]
  },
  {
   "cell_type": "code",
   "execution_count": 127,
   "metadata": {
    "scrolled": false
   },
   "outputs": [
    {
     "data": {
      "text/plain": [
       "<AxesSubplot:xlabel='Bedrooms', ylabel='Log Sale Price'>"
      ]
     },
     "execution_count": 127,
     "metadata": {},
     "output_type": "execute_result"
    },
    {
     "data": {
      "image/png": "[encoded data removed]",
      "text/plain": [
       "<Figure size 864x648 with 1 Axes>"
      ]
     },
     "metadata": {
      "needs_background": "light"
     },
     "output_type": "display_data"
    }
   ],
   "source": [
    "sns.stripplot(data=training_data, x='Bedrooms', y='Log Sale Price', jitter=0.25, alpha=0.2, size=10)"
   ]
  },
  {
   "cell_type": "markdown",
   "metadata": {},
   "source": [
    "<!-- END QUESTION -->\n",
    "\n",
    "\n",
    "\n",
    "## Question 5"
   ]
  },
  {
   "cell_type": "markdown",
   "metadata": {},
   "source": [
    "Now, let's take a look at the relationship between neighborhood and sale prices of the houses in our data set.\n",
    "Notice that currently we don't have the actual names for the neighborhoods. Instead we will use a similar column `Neighborhood Code` (which is a numerical encoding of the actual neighborhoods by the Assessment office)."
   ]
  },
  {
   "cell_type": "markdown",
   "metadata": {
    "deletable": false,
    "editable": false
   },
   "source": [
    "### Part 1\n",
    "\n",
    "Before creating any visualization, let's quickly inspect how many different neighborhoods we are dealing with.\n",
    "\n",
    "Assign the variable `num_neighborhoods` with the total number of neighborhoods in `training_data`. \n",
    "\n",
    "<!--\n",
    "BEGIN QUESTION\n",
    "name: q5i\n",
    "points: 1\n",
    "-->"
   ]
  },
  {
   "cell_type": "code",
   "execution_count": 128,
   "metadata": {},
   "outputs": [
    {
     "data": {
      "text/plain": [
       "193"
      ]
     },
     "execution_count": 128,
     "metadata": {},
     "output_type": "execute_result"
    }
   ],
   "source": [
    "num_neighborhoods = len(training_data['Neighborhood Code'].unique())\n",
    "num_neighborhoods"
   ]
  },
  {
   "cell_type": "code",
   "execution_count": 129,
   "metadata": {
    "deletable": false,
    "editable": false
   },
   "outputs": [
    {
     "data": {
      "text/html": [
       "\n",
       "    <p><strong>q5i</strong> passed!</p>\n",
       "    "
      ],
      "text/plain": [
       "q5i passed!"
      ]
     },
     "execution_count": 129,
     "metadata": {},
     "output_type": "execute_result"
    }
   ],
   "source": [
    "grader.check(\"q5i\")"
   ]
  },
  {
   "cell_type": "markdown",
   "metadata": {},
   "source": [
    "### Part  2\n",
    "\n",
    "If we try directly plotting the distribution of `Log Sale Price` for all of the households in each neighborhood using the `plot_categorical` function from the next cell, we would get the following visualization.\n",
    "![overplot](images/q5p2_catplot.png)"
   ]
  },
  {
   "cell_type": "code",
   "execution_count": 130,
   "metadata": {
    "scrolled": true
   },
   "outputs": [],
   "source": [
    "def plot_categorical(neighborhoods, data, with_filter=True):\n",
    "    if not with_filter:\n",
    "        neighborhoods = data\n",
    "    fig, axs = plt.subplots(nrows=2)\n",
    "\n",
    "    sns.boxplot(\n",
    "        x='Neighborhood Code',\n",
    "        y='Log Sale Price',\n",
    "        data=neighborhoods.sort_values('Neighborhood Code'),\n",
    "        ax=axs[0],\n",
    "    )\n",
    "\n",
    "    sns.countplot(\n",
    "        x='Neighborhood Code',\n",
    "        data=neighborhoods.sort_values('Neighborhood Code'),\n",
    "        ax=axs[1],\n",
    "    )\n",
    "\n",
    "    # Draw median price\n",
    "    axs[0].axhline(\n",
    "        y=data['Log Sale Price'].median(), \n",
    "        color='red',\n",
    "        linestyle='dotted'\n",
    "    )\n",
    "\n",
    "    # Label the bars with counts\n",
    "    for patch in axs[1].patches:\n",
    "        x = patch.get_bbox().get_points()[:, 0]\n",
    "        y = patch.get_bbox().get_points()[1, 1]\n",
    "        axs[1].annotate(f'{int(y)}', (x.mean(), y), ha='center', va='bottom')\n",
    "\n",
    "    # Format x-axes\n",
    "    axs[1].set_xticklabels(axs[1].xaxis.get_majorticklabels(), rotation=90)\n",
    "    axs[0].xaxis.set_visible(False)\n",
    "\n",
    "    # Narrow the gap between the plots\n",
    "    plt.subplots_adjust(hspace=0.01)"
   ]
  },
  {
   "cell_type": "markdown",
   "metadata": {
    "deletable": false,
    "editable": false
   },
   "source": [
    "Oh no, looks like we have run into the problem of overplotting again! \n",
    "\n",
    "You might have noticed that the graph is overplotted because **there are actually quite a few neighborhoods in our dataset**! For the clarity of our visualization, we will have to zoom in again on a few of them. The reason for this is our visualization will become quite cluttered with a super dense x-axis.\n",
    "\n",
    "Assign the variable `top_20_neighborhoods` with a copy of `training_data` that contains only neighborhoods with the top 20 number of buildings. \n",
    "\n",
    "<!--\n",
    "BEGIN QUESTION\n",
    "name: q5ii\n",
    "points: 2\n",
    "-->"
   ]
  },
  {
   "cell_type": "code",
   "execution_count": 131,
   "metadata": {},
   "outputs": [
    {
     "data": {
      "text/html": [
       "<div>\n",
       "<style scoped>\n",
       "    .dataframe tbody tr th:only-of-type {\n",
       "        vertical-align: middle;\n",
       "    }\n",
       "\n",
       "    .dataframe tbody tr th {\n",
       "        vertical-align: top;\n",
       "    }\n",
       "\n",
       "    .dataframe thead th {\n",
       "        text-align: right;\n",
       "    }\n",
       "</style>\n",
       "<table border=\"1\" class=\"dataframe\">\n",
       "  <thead>\n",
       "    <tr style=\"text-align: right;\">\n",
       "      <th></th>\n",
       "      <th>PIN</th>\n",
       "      <th>Property Class</th>\n",
       "      <th>Neighborhood Code</th>\n",
       "      <th>Land Square Feet</th>\n",
       "      <th>Town Code</th>\n",
       "      <th>Apartments</th>\n",
       "      <th>Wall Material</th>\n",
       "      <th>Roof Material</th>\n",
       "      <th>Basement</th>\n",
       "      <th>Basement Finish</th>\n",
       "      <th>...</th>\n",
       "      <th>Age Decade</th>\n",
       "      <th>Pure Market Filter</th>\n",
       "      <th>Garage Indicator</th>\n",
       "      <th>Neigborhood Code (mapping)</th>\n",
       "      <th>Town and Neighborhood</th>\n",
       "      <th>Description</th>\n",
       "      <th>Lot Size</th>\n",
       "      <th>Log Sale Price</th>\n",
       "      <th>Log Building Square Feet</th>\n",
       "      <th>Bedrooms</th>\n",
       "    </tr>\n",
       "  </thead>\n",
       "  <tbody>\n",
       "    <tr>\n",
       "      <th>1</th>\n",
       "      <td>13272240180000</td>\n",
       "      <td>202</td>\n",
       "      <td>120</td>\n",
       "      <td>3780.0</td>\n",
       "      <td>71</td>\n",
       "      <td>0.0</td>\n",
       "      <td>2.0</td>\n",
       "      <td>1.0</td>\n",
       "      <td>1.0</td>\n",
       "      <td>1.0</td>\n",
       "      <td>...</td>\n",
       "      <td>9.6</td>\n",
       "      <td>1</td>\n",
       "      <td>1.0</td>\n",
       "      <td>120</td>\n",
       "      <td>71120</td>\n",
       "      <td>This property, sold on 05/23/2018, is a one-st...</td>\n",
       "      <td>3780.0</td>\n",
       "      <td>12.560244</td>\n",
       "      <td>6.904751</td>\n",
       "      <td>3</td>\n",
       "    </tr>\n",
       "    <tr>\n",
       "      <th>4</th>\n",
       "      <td>31361040550000</td>\n",
       "      <td>202</td>\n",
       "      <td>120</td>\n",
       "      <td>8400.0</td>\n",
       "      <td>32</td>\n",
       "      <td>0.0</td>\n",
       "      <td>3.0</td>\n",
       "      <td>1.0</td>\n",
       "      <td>2.0</td>\n",
       "      <td>3.0</td>\n",
       "      <td>...</td>\n",
       "      <td>6.3</td>\n",
       "      <td>1</td>\n",
       "      <td>1.0</td>\n",
       "      <td>120</td>\n",
       "      <td>32120</td>\n",
       "      <td>This property, sold on 06/10/2016, is a one-st...</td>\n",
       "      <td>8400.0</td>\n",
       "      <td>10.025705</td>\n",
       "      <td>6.855409</td>\n",
       "      <td>2</td>\n",
       "    </tr>\n",
       "    <tr>\n",
       "      <th>8</th>\n",
       "      <td>13232040260000</td>\n",
       "      <td>205</td>\n",
       "      <td>70</td>\n",
       "      <td>3100.0</td>\n",
       "      <td>71</td>\n",
       "      <td>0.0</td>\n",
       "      <td>2.0</td>\n",
       "      <td>2.0</td>\n",
       "      <td>1.0</td>\n",
       "      <td>3.0</td>\n",
       "      <td>...</td>\n",
       "      <td>10.0</td>\n",
       "      <td>1</td>\n",
       "      <td>1.0</td>\n",
       "      <td>70</td>\n",
       "      <td>7170</td>\n",
       "      <td>This property, sold on 08/25/2016, is a two-st...</td>\n",
       "      <td>3100.0</td>\n",
       "      <td>13.422468</td>\n",
       "      <td>7.636270</td>\n",
       "      <td>4</td>\n",
       "    </tr>\n",
       "    <tr>\n",
       "      <th>10</th>\n",
       "      <td>19074270080000</td>\n",
       "      <td>202</td>\n",
       "      <td>380</td>\n",
       "      <td>3750.0</td>\n",
       "      <td>72</td>\n",
       "      <td>0.0</td>\n",
       "      <td>1.0</td>\n",
       "      <td>1.0</td>\n",
       "      <td>2.0</td>\n",
       "      <td>3.0</td>\n",
       "      <td>...</td>\n",
       "      <td>7.4</td>\n",
       "      <td>1</td>\n",
       "      <td>1.0</td>\n",
       "      <td>380</td>\n",
       "      <td>72380</td>\n",
       "      <td>This property, sold on 05/01/2017, is a one-st...</td>\n",
       "      <td>3750.0</td>\n",
       "      <td>11.695247</td>\n",
       "      <td>6.841615</td>\n",
       "      <td>2</td>\n",
       "    </tr>\n",
       "    <tr>\n",
       "      <th>11</th>\n",
       "      <td>15083050330000</td>\n",
       "      <td>203</td>\n",
       "      <td>20</td>\n",
       "      <td>5092.0</td>\n",
       "      <td>31</td>\n",
       "      <td>0.0</td>\n",
       "      <td>2.0</td>\n",
       "      <td>1.0</td>\n",
       "      <td>1.0</td>\n",
       "      <td>1.0</td>\n",
       "      <td>...</td>\n",
       "      <td>5.8</td>\n",
       "      <td>1</td>\n",
       "      <td>1.0</td>\n",
       "      <td>20</td>\n",
       "      <td>3120</td>\n",
       "      <td>This property, sold on 04/29/2014, is a one-st...</td>\n",
       "      <td>5092.0</td>\n",
       "      <td>11.184421</td>\n",
       "      <td>6.911747</td>\n",
       "      <td>3</td>\n",
       "    </tr>\n",
       "    <tr>\n",
       "      <th>...</th>\n",
       "      <td>...</td>\n",
       "      <td>...</td>\n",
       "      <td>...</td>\n",
       "      <td>...</td>\n",
       "      <td>...</td>\n",
       "      <td>...</td>\n",
       "      <td>...</td>\n",
       "      <td>...</td>\n",
       "      <td>...</td>\n",
       "      <td>...</td>\n",
       "      <td>...</td>\n",
       "      <td>...</td>\n",
       "      <td>...</td>\n",
       "      <td>...</td>\n",
       "      <td>...</td>\n",
       "      <td>...</td>\n",
       "      <td>...</td>\n",
       "      <td>...</td>\n",
       "      <td>...</td>\n",
       "      <td>...</td>\n",
       "      <td>...</td>\n",
       "    </tr>\n",
       "    <tr>\n",
       "      <th>204781</th>\n",
       "      <td>20361190390000</td>\n",
       "      <td>203</td>\n",
       "      <td>80</td>\n",
       "      <td>4405.0</td>\n",
       "      <td>70</td>\n",
       "      <td>0.0</td>\n",
       "      <td>2.0</td>\n",
       "      <td>1.0</td>\n",
       "      <td>1.0</td>\n",
       "      <td>3.0</td>\n",
       "      <td>...</td>\n",
       "      <td>5.7</td>\n",
       "      <td>1</td>\n",
       "      <td>1.0</td>\n",
       "      <td>80</td>\n",
       "      <td>7080</td>\n",
       "      <td>This property, sold on 07/15/2013, is a one-st...</td>\n",
       "      <td>4405.0</td>\n",
       "      <td>10.913269</td>\n",
       "      <td>7.141245</td>\n",
       "      <td>3</td>\n",
       "    </tr>\n",
       "    <tr>\n",
       "      <th>204785</th>\n",
       "      <td>9284030280000</td>\n",
       "      <td>202</td>\n",
       "      <td>40</td>\n",
       "      <td>6650.0</td>\n",
       "      <td>22</td>\n",
       "      <td>0.0</td>\n",
       "      <td>1.0</td>\n",
       "      <td>1.0</td>\n",
       "      <td>1.0</td>\n",
       "      <td>3.0</td>\n",
       "      <td>...</td>\n",
       "      <td>6.1</td>\n",
       "      <td>1</td>\n",
       "      <td>1.0</td>\n",
       "      <td>40</td>\n",
       "      <td>2240</td>\n",
       "      <td>This property, sold on 04/03/2014, is a one-st...</td>\n",
       "      <td>6650.0</td>\n",
       "      <td>11.736069</td>\n",
       "      <td>6.761573</td>\n",
       "      <td>3</td>\n",
       "    </tr>\n",
       "    <tr>\n",
       "      <th>204786</th>\n",
       "      <td>8141120110000</td>\n",
       "      <td>203</td>\n",
       "      <td>100</td>\n",
       "      <td>10010.0</td>\n",
       "      <td>16</td>\n",
       "      <td>0.0</td>\n",
       "      <td>2.0</td>\n",
       "      <td>1.0</td>\n",
       "      <td>1.0</td>\n",
       "      <td>1.0</td>\n",
       "      <td>...</td>\n",
       "      <td>5.6</td>\n",
       "      <td>1</td>\n",
       "      <td>1.0</td>\n",
       "      <td>100</td>\n",
       "      <td>16100</td>\n",
       "      <td>This property, sold on 09/08/2016, is a one-st...</td>\n",
       "      <td>10010.0</td>\n",
       "      <td>12.568978</td>\n",
       "      <td>6.948897</td>\n",
       "      <td>3</td>\n",
       "    </tr>\n",
       "    <tr>\n",
       "      <th>204790</th>\n",
       "      <td>9242030500000</td>\n",
       "      <td>203</td>\n",
       "      <td>80</td>\n",
       "      <td>6650.0</td>\n",
       "      <td>22</td>\n",
       "      <td>0.0</td>\n",
       "      <td>2.0</td>\n",
       "      <td>1.0</td>\n",
       "      <td>1.0</td>\n",
       "      <td>3.0</td>\n",
       "      <td>...</td>\n",
       "      <td>6.0</td>\n",
       "      <td>1</td>\n",
       "      <td>1.0</td>\n",
       "      <td>80</td>\n",
       "      <td>2280</td>\n",
       "      <td>This property, sold on 02/22/2018, is a one-st...</td>\n",
       "      <td>6650.0</td>\n",
       "      <td>12.879017</td>\n",
       "      <td>7.092574</td>\n",
       "      <td>3</td>\n",
       "    </tr>\n",
       "    <tr>\n",
       "      <th>204791</th>\n",
       "      <td>19102030080000</td>\n",
       "      <td>203</td>\n",
       "      <td>30</td>\n",
       "      <td>2500.0</td>\n",
       "      <td>72</td>\n",
       "      <td>0.0</td>\n",
       "      <td>1.0</td>\n",
       "      <td>1.0</td>\n",
       "      <td>1.0</td>\n",
       "      <td>3.0</td>\n",
       "      <td>...</td>\n",
       "      <td>4.7</td>\n",
       "      <td>1</td>\n",
       "      <td>0.0</td>\n",
       "      <td>30</td>\n",
       "      <td>7230</td>\n",
       "      <td>This property, sold on 04/22/2014, is a one-st...</td>\n",
       "      <td>2500.0</td>\n",
       "      <td>11.736069</td>\n",
       "      <td>6.946976</td>\n",
       "      <td>2</td>\n",
       "    </tr>\n",
       "  </tbody>\n",
       "</table>\n",
       "<p>85526 rows × 65 columns</p>\n",
       "</div>"
      ],
      "text/plain": [
       "                   PIN  Property Class  Neighborhood Code  Land Square Feet  \\\n",
       "1       13272240180000             202                120            3780.0   \n",
       "4       31361040550000             202                120            8400.0   \n",
       "8       13232040260000             205                 70            3100.0   \n",
       "10      19074270080000             202                380            3750.0   \n",
       "11      15083050330000             203                 20            5092.0   \n",
       "...                ...             ...                ...               ...   \n",
       "204781  20361190390000             203                 80            4405.0   \n",
       "204785   9284030280000             202                 40            6650.0   \n",
       "204786   8141120110000             203                100           10010.0   \n",
       "204790   9242030500000             203                 80            6650.0   \n",
       "204791  19102030080000             203                 30            2500.0   \n",
       "\n",
       "        Town Code  Apartments  Wall Material  Roof Material  Basement  \\\n",
       "1              71         0.0            2.0            1.0       1.0   \n",
       "4              32         0.0            3.0            1.0       2.0   \n",
       "8              71         0.0            2.0            2.0       1.0   \n",
       "10             72         0.0            1.0            1.0       2.0   \n",
       "11             31         0.0            2.0            1.0       1.0   \n",
       "...           ...         ...            ...            ...       ...   \n",
       "204781         70         0.0            2.0            1.0       1.0   \n",
       "204785         22         0.0            1.0            1.0       1.0   \n",
       "204786         16         0.0            2.0            1.0       1.0   \n",
       "204790         22         0.0            2.0            1.0       1.0   \n",
       "204791         72         0.0            1.0            1.0       1.0   \n",
       "\n",
       "        Basement Finish  ...  Age Decade  Pure Market Filter  \\\n",
       "1                   1.0  ...         9.6                   1   \n",
       "4                   3.0  ...         6.3                   1   \n",
       "8                   3.0  ...        10.0                   1   \n",
       "10                  3.0  ...         7.4                   1   \n",
       "11                  1.0  ...         5.8                   1   \n",
       "...                 ...  ...         ...                 ...   \n",
       "204781              3.0  ...         5.7                   1   \n",
       "204785              3.0  ...         6.1                   1   \n",
       "204786              1.0  ...         5.6                   1   \n",
       "204790              3.0  ...         6.0                   1   \n",
       "204791              3.0  ...         4.7                   1   \n",
       "\n",
       "        Garage Indicator  Neigborhood Code (mapping)  Town and Neighborhood  \\\n",
       "1                    1.0                         120                  71120   \n",
       "4                    1.0                         120                  32120   \n",
       "8                    1.0                          70                   7170   \n",
       "10                   1.0                         380                  72380   \n",
       "11                   1.0                          20                   3120   \n",
       "...                  ...                         ...                    ...   \n",
       "204781               1.0                          80                   7080   \n",
       "204785               1.0                          40                   2240   \n",
       "204786               1.0                         100                  16100   \n",
       "204790               1.0                          80                   2280   \n",
       "204791               0.0                          30                   7230   \n",
       "\n",
       "                                              Description  Lot Size  \\\n",
       "1       This property, sold on 05/23/2018, is a one-st...    3780.0   \n",
       "4       This property, sold on 06/10/2016, is a one-st...    8400.0   \n",
       "8       This property, sold on 08/25/2016, is a two-st...    3100.0   \n",
       "10      This property, sold on 05/01/2017, is a one-st...    3750.0   \n",
       "11      This property, sold on 04/29/2014, is a one-st...    5092.0   \n",
       "...                                                   ...       ...   \n",
       "204781  This property, sold on 07/15/2013, is a one-st...    4405.0   \n",
       "204785  This property, sold on 04/03/2014, is a one-st...    6650.0   \n",
       "204786  This property, sold on 09/08/2016, is a one-st...   10010.0   \n",
       "204790  This property, sold on 02/22/2018, is a one-st...    6650.0   \n",
       "204791  This property, sold on 04/22/2014, is a one-st...    2500.0   \n",
       "\n",
       "        Log Sale Price  Log Building Square Feet  Bedrooms  \n",
       "1            12.560244                  6.904751         3  \n",
       "4            10.025705                  6.855409         2  \n",
       "8            13.422468                  7.636270         4  \n",
       "10           11.695247                  6.841615         2  \n",
       "11           11.184421                  6.911747         3  \n",
       "...                ...                       ...       ...  \n",
       "204781       10.913269                  7.141245         3  \n",
       "204785       11.736069                  6.761573         3  \n",
       "204786       12.568978                  6.948897         3  \n",
       "204790       12.879017                  7.092574         3  \n",
       "204791       11.736069                  6.946976         2  \n",
       "\n",
       "[85526 rows x 65 columns]"
      ]
     },
     "execution_count": 131,
     "metadata": {},
     "output_type": "execute_result"
    }
   ],
   "source": [
    "top_20_codes = training_data['Neighborhood Code'].value_counts().index[:20]\n",
    "is_in_top_20 = training_data['Neighborhood Code'].map(lambda code: code in top_20_codes)\n",
    "top_20_neighborhoods = training_data.loc[is_in_top_20]\n",
    "top_20_neighborhoods"
   ]
  },
  {
   "cell_type": "code",
   "execution_count": 132,
   "metadata": {
    "deletable": false,
    "editable": false
   },
   "outputs": [
    {
     "data": {
      "text/html": [
       "\n",
       "    <p><strong>q5ii</strong> passed!</p>\n",
       "    "
      ],
      "text/plain": [
       "q5ii passed!"
      ]
     },
     "execution_count": 132,
     "metadata": {},
     "output_type": "execute_result"
    }
   ],
   "source": [
    "grader.check(\"q5ii\")"
   ]
  },
  {
   "cell_type": "markdown",
   "metadata": {},
   "source": [
    "Let's create another of the distribution of sale price within in each neighborhood again, but this time with a narrower focus!"
   ]
  },
  {
   "cell_type": "code",
   "execution_count": 133,
   "metadata": {},
   "outputs": [
    {
     "data": {
      "image/png": "[encoded data removed]",
      "text/plain": [
       "<Figure size 864x648 with 2 Axes>"
      ]
     },
     "metadata": {
      "needs_background": "light"
     },
     "output_type": "display_data"
    }
   ],
   "source": [
    "plot_categorical(neighborhoods=top_20_neighborhoods, data=training_data)"
   ]
  },
  {
   "cell_type": "markdown",
   "metadata": {
    "deletable": false,
    "editable": false
   },
   "source": [
    "<!-- BEGIN QUESTION -->\n",
    "\n",
    "### Part 3\n",
    "\n",
    "It looks a lot better now than before, right? Based on the plot above, what can be said about the relationship between the houses' `Log Sale Price` and their neighborhoods?\n",
    "\n",
    "<!--\n",
    "BEGIN QUESTION\n",
    "name: q5iii\n",
    "points: 1\n",
    "manual: True\n",
    "-->"
   ]
  },
  {
   "cell_type": "markdown",
   "metadata": {},
   "source": [
    "The `Log Sale Price` is somewhat dependant on the neighborhood because some neighborhood codes have a median value above or below the median price implying that those neighborhoods have a higher or lower price respectively."
   ]
  },
  {
   "cell_type": "markdown",
   "metadata": {
    "deletable": false,
    "editable": false
   },
   "source": [
    "<!-- END QUESTION -->\n",
    "\n",
    "### Part 4\n",
    "\n",
    "One way we can deal with the lack of data from some neighborhoods is to create a new feature that bins neighborhoods together.  Let's categorize our neighborhoods in a crude way: we'll take the top 3 neighborhoods measured by median `Log Sale Price` and identify them as \"expensive neighborhoods\"; the other neighborhoods are not marked.\n",
    "\n",
    "Write a function that returns list of the top `n` most pricy neighborhoods as measured by our choice of aggregating function.  For example, in the setup above, we would want to call `find_expensive_neighborhoods(training_data, 3, np.median)` to find the top 3 neighborhoods measured by median `Log Sale Price`.\n",
    "\n",
    "<!--\n",
    "BEGIN QUESTION\n",
    "name: q5iv\n",
    "points: 2\n",
    "-->"
   ]
  },
  {
   "cell_type": "code",
   "execution_count": 134,
   "metadata": {},
   "outputs": [
    {
     "data": {
      "text/plain": [
       "[44, 94, 93]"
      ]
     },
     "execution_count": 134,
     "metadata": {},
     "output_type": "execute_result"
    }
   ],
   "source": [
    "def find_expensive_neighborhoods(data, n=3, metric=np.median):\n",
    "    \"\"\"\n",
    "    Input:\n",
    "      data (data frame): should contain at least a string-valued Neighborhood\n",
    "        and a numeric 'Sale Price' column\n",
    "      n (int): the number of top values desired\n",
    "      metric (function): function used for aggregating the data in each neighborhood.\n",
    "        for example, np.median for median prices\n",
    "    \n",
    "    Output:\n",
    "      a list of the top n richest neighborhoods as measured by the metric function\n",
    "    \"\"\"\n",
    "    neighborhoods = data.groupby('Neighborhood Code').agg({\n",
    "        'Log Sale Price': metric\n",
    "    }).sort_values('Log Sale Price', ascending=False).index[:n]\n",
    "    \n",
    "    # This makes sure the final list contains the generic int type used in Python3, not specific ones used in numpy.\n",
    "    return [int(code) for code in neighborhoods]\n",
    "\n",
    "expensive_neighborhoods = find_expensive_neighborhoods(training_data, 3, np.median)\n",
    "expensive_neighborhoods"
   ]
  },
  {
   "cell_type": "code",
   "execution_count": 135,
   "metadata": {
    "deletable": false,
    "editable": false
   },
   "outputs": [
    {
     "data": {
      "text/html": [
       "\n",
       "    <p><strong>q5iv</strong> passed!</p>\n",
       "    "
      ],
      "text/plain": [
       "q5iv passed!"
      ]
     },
     "execution_count": 135,
     "metadata": {},
     "output_type": "execute_result"
    }
   ],
   "source": [
    "grader.check(\"q5iv\")"
   ]
  },
  {
   "cell_type": "markdown",
   "metadata": {
    "deletable": false,
    "editable": false
   },
   "source": [
    "### Part 5\n",
    "We now have a list of neighborhoods we've deemed as richer than others.  Let's use that information to make a new variable `in_expensive_neighborhood`.  Write a function `add_expensive_neighborhood` that adds an indicator variable which takes on the value 1 if the house is part of `expensive_neighborhoods` and the value 0 otherwise.\n",
    "\n",
    "**Hint:** [`pd.Series.astype`](https://pandas.pydata.org/pandas-docs/version/0.23.4/generated/pandas.Series.astype.html) may be useful for converting True/False values to integers.\n",
    "\n",
    "<!--\n",
    "BEGIN QUESTION\n",
    "name: q5v\n",
    "points: 1\n",
    "-->"
   ]
  },
  {
   "cell_type": "code",
   "execution_count": 136,
   "metadata": {},
   "outputs": [
    {
     "data": {
      "text/html": [
       "<div>\n",
       "<style scoped>\n",
       "    .dataframe tbody tr th:only-of-type {\n",
       "        vertical-align: middle;\n",
       "    }\n",
       "\n",
       "    .dataframe tbody tr th {\n",
       "        vertical-align: top;\n",
       "    }\n",
       "\n",
       "    .dataframe thead th {\n",
       "        text-align: right;\n",
       "    }\n",
       "</style>\n",
       "<table border=\"1\" class=\"dataframe\">\n",
       "  <thead>\n",
       "    <tr style=\"text-align: right;\">\n",
       "      <th></th>\n",
       "      <th>PIN</th>\n",
       "      <th>Property Class</th>\n",
       "      <th>Neighborhood Code</th>\n",
       "      <th>Land Square Feet</th>\n",
       "      <th>Town Code</th>\n",
       "      <th>Apartments</th>\n",
       "      <th>Wall Material</th>\n",
       "      <th>Roof Material</th>\n",
       "      <th>Basement</th>\n",
       "      <th>Basement Finish</th>\n",
       "      <th>...</th>\n",
       "      <th>Pure Market Filter</th>\n",
       "      <th>Garage Indicator</th>\n",
       "      <th>Neigborhood Code (mapping)</th>\n",
       "      <th>Town and Neighborhood</th>\n",
       "      <th>Description</th>\n",
       "      <th>Lot Size</th>\n",
       "      <th>Log Sale Price</th>\n",
       "      <th>Log Building Square Feet</th>\n",
       "      <th>Bedrooms</th>\n",
       "      <th>in_expensive_neighborhood</th>\n",
       "    </tr>\n",
       "  </thead>\n",
       "  <tbody>\n",
       "    <tr>\n",
       "      <th>1</th>\n",
       "      <td>13272240180000</td>\n",
       "      <td>202</td>\n",
       "      <td>120</td>\n",
       "      <td>3780.0</td>\n",
       "      <td>71</td>\n",
       "      <td>0.0</td>\n",
       "      <td>2.0</td>\n",
       "      <td>1.0</td>\n",
       "      <td>1.0</td>\n",
       "      <td>1.0</td>\n",
       "      <td>...</td>\n",
       "      <td>1</td>\n",
       "      <td>1.0</td>\n",
       "      <td>120</td>\n",
       "      <td>71120</td>\n",
       "      <td>This property, sold on 05/23/2018, is a one-st...</td>\n",
       "      <td>3780.0</td>\n",
       "      <td>12.560244</td>\n",
       "      <td>6.904751</td>\n",
       "      <td>3</td>\n",
       "      <td>0</td>\n",
       "    </tr>\n",
       "    <tr>\n",
       "      <th>2</th>\n",
       "      <td>25221150230000</td>\n",
       "      <td>202</td>\n",
       "      <td>210</td>\n",
       "      <td>4375.0</td>\n",
       "      <td>70</td>\n",
       "      <td>0.0</td>\n",
       "      <td>2.0</td>\n",
       "      <td>1.0</td>\n",
       "      <td>2.0</td>\n",
       "      <td>3.0</td>\n",
       "      <td>...</td>\n",
       "      <td>1</td>\n",
       "      <td>1.0</td>\n",
       "      <td>210</td>\n",
       "      <td>70210</td>\n",
       "      <td>This property, sold on 02/18/2016, is a one-st...</td>\n",
       "      <td>4375.0</td>\n",
       "      <td>9.998798</td>\n",
       "      <td>6.810142</td>\n",
       "      <td>3</td>\n",
       "      <td>0</td>\n",
       "    </tr>\n",
       "    <tr>\n",
       "      <th>3</th>\n",
       "      <td>10251130030000</td>\n",
       "      <td>203</td>\n",
       "      <td>220</td>\n",
       "      <td>4375.0</td>\n",
       "      <td>17</td>\n",
       "      <td>0.0</td>\n",
       "      <td>3.0</td>\n",
       "      <td>1.0</td>\n",
       "      <td>1.0</td>\n",
       "      <td>3.0</td>\n",
       "      <td>...</td>\n",
       "      <td>1</td>\n",
       "      <td>1.0</td>\n",
       "      <td>220</td>\n",
       "      <td>17220</td>\n",
       "      <td>This property, sold on 07/23/2013, is a one-st...</td>\n",
       "      <td>4375.0</td>\n",
       "      <td>12.323856</td>\n",
       "      <td>7.068172</td>\n",
       "      <td>3</td>\n",
       "      <td>0</td>\n",
       "    </tr>\n",
       "    <tr>\n",
       "      <th>4</th>\n",
       "      <td>31361040550000</td>\n",
       "      <td>202</td>\n",
       "      <td>120</td>\n",
       "      <td>8400.0</td>\n",
       "      <td>32</td>\n",
       "      <td>0.0</td>\n",
       "      <td>3.0</td>\n",
       "      <td>1.0</td>\n",
       "      <td>2.0</td>\n",
       "      <td>3.0</td>\n",
       "      <td>...</td>\n",
       "      <td>1</td>\n",
       "      <td>1.0</td>\n",
       "      <td>120</td>\n",
       "      <td>32120</td>\n",
       "      <td>This property, sold on 06/10/2016, is a one-st...</td>\n",
       "      <td>8400.0</td>\n",
       "      <td>10.025705</td>\n",
       "      <td>6.855409</td>\n",
       "      <td>2</td>\n",
       "      <td>0</td>\n",
       "    </tr>\n",
       "    <tr>\n",
       "      <th>6</th>\n",
       "      <td>30314240080000</td>\n",
       "      <td>203</td>\n",
       "      <td>181</td>\n",
       "      <td>10890.0</td>\n",
       "      <td>37</td>\n",
       "      <td>0.0</td>\n",
       "      <td>1.0</td>\n",
       "      <td>1.0</td>\n",
       "      <td>1.0</td>\n",
       "      <td>3.0</td>\n",
       "      <td>...</td>\n",
       "      <td>1</td>\n",
       "      <td>1.0</td>\n",
       "      <td>181</td>\n",
       "      <td>37181</td>\n",
       "      <td>This property, sold on 10/26/2017, is a one-st...</td>\n",
       "      <td>10890.0</td>\n",
       "      <td>11.512925</td>\n",
       "      <td>7.458186</td>\n",
       "      <td>4</td>\n",
       "      <td>0</td>\n",
       "    </tr>\n",
       "    <tr>\n",
       "      <th>...</th>\n",
       "      <td>...</td>\n",
       "      <td>...</td>\n",
       "      <td>...</td>\n",
       "      <td>...</td>\n",
       "      <td>...</td>\n",
       "      <td>...</td>\n",
       "      <td>...</td>\n",
       "      <td>...</td>\n",
       "      <td>...</td>\n",
       "      <td>...</td>\n",
       "      <td>...</td>\n",
       "      <td>...</td>\n",
       "      <td>...</td>\n",
       "      <td>...</td>\n",
       "      <td>...</td>\n",
       "      <td>...</td>\n",
       "      <td>...</td>\n",
       "      <td>...</td>\n",
       "      <td>...</td>\n",
       "      <td>...</td>\n",
       "      <td>...</td>\n",
       "    </tr>\n",
       "    <tr>\n",
       "      <th>204787</th>\n",
       "      <td>25163010260000</td>\n",
       "      <td>202</td>\n",
       "      <td>321</td>\n",
       "      <td>4375.0</td>\n",
       "      <td>72</td>\n",
       "      <td>0.0</td>\n",
       "      <td>2.0</td>\n",
       "      <td>1.0</td>\n",
       "      <td>1.0</td>\n",
       "      <td>1.0</td>\n",
       "      <td>...</td>\n",
       "      <td>1</td>\n",
       "      <td>1.0</td>\n",
       "      <td>321</td>\n",
       "      <td>72321</td>\n",
       "      <td>This property, sold on 07/23/2014, is a one-st...</td>\n",
       "      <td>4375.0</td>\n",
       "      <td>10.521372</td>\n",
       "      <td>6.813445</td>\n",
       "      <td>2</td>\n",
       "      <td>0</td>\n",
       "    </tr>\n",
       "    <tr>\n",
       "      <th>204788</th>\n",
       "      <td>5063010090000</td>\n",
       "      <td>204</td>\n",
       "      <td>21</td>\n",
       "      <td>16509.0</td>\n",
       "      <td>23</td>\n",
       "      <td>0.0</td>\n",
       "      <td>1.0</td>\n",
       "      <td>1.0</td>\n",
       "      <td>1.0</td>\n",
       "      <td>1.0</td>\n",
       "      <td>...</td>\n",
       "      <td>1</td>\n",
       "      <td>1.0</td>\n",
       "      <td>21</td>\n",
       "      <td>2321</td>\n",
       "      <td>This property, sold on 03/27/2019, is a one-st...</td>\n",
       "      <td>16509.0</td>\n",
       "      <td>12.323856</td>\n",
       "      <td>7.603399</td>\n",
       "      <td>4</td>\n",
       "      <td>0</td>\n",
       "    </tr>\n",
       "    <tr>\n",
       "      <th>204789</th>\n",
       "      <td>16333020150000</td>\n",
       "      <td>202</td>\n",
       "      <td>90</td>\n",
       "      <td>3810.0</td>\n",
       "      <td>15</td>\n",
       "      <td>0.0</td>\n",
       "      <td>2.0</td>\n",
       "      <td>1.0</td>\n",
       "      <td>1.0</td>\n",
       "      <td>1.0</td>\n",
       "      <td>...</td>\n",
       "      <td>1</td>\n",
       "      <td>1.0</td>\n",
       "      <td>90</td>\n",
       "      <td>1590</td>\n",
       "      <td>This property, sold on 01/31/2014, is a one-st...</td>\n",
       "      <td>3810.0</td>\n",
       "      <td>11.813030</td>\n",
       "      <td>6.815640</td>\n",
       "      <td>3</td>\n",
       "      <td>0</td>\n",
       "    </tr>\n",
       "    <tr>\n",
       "      <th>204790</th>\n",
       "      <td>9242030500000</td>\n",
       "      <td>203</td>\n",
       "      <td>80</td>\n",
       "      <td>6650.0</td>\n",
       "      <td>22</td>\n",
       "      <td>0.0</td>\n",
       "      <td>2.0</td>\n",
       "      <td>1.0</td>\n",
       "      <td>1.0</td>\n",
       "      <td>3.0</td>\n",
       "      <td>...</td>\n",
       "      <td>1</td>\n",
       "      <td>1.0</td>\n",
       "      <td>80</td>\n",
       "      <td>2280</td>\n",
       "      <td>This property, sold on 02/22/2018, is a one-st...</td>\n",
       "      <td>6650.0</td>\n",
       "      <td>12.879017</td>\n",
       "      <td>7.092574</td>\n",
       "      <td>3</td>\n",
       "      <td>0</td>\n",
       "    </tr>\n",
       "    <tr>\n",
       "      <th>204791</th>\n",
       "      <td>19102030080000</td>\n",
       "      <td>203</td>\n",
       "      <td>30</td>\n",
       "      <td>2500.0</td>\n",
       "      <td>72</td>\n",
       "      <td>0.0</td>\n",
       "      <td>1.0</td>\n",
       "      <td>1.0</td>\n",
       "      <td>1.0</td>\n",
       "      <td>3.0</td>\n",
       "      <td>...</td>\n",
       "      <td>1</td>\n",
       "      <td>0.0</td>\n",
       "      <td>30</td>\n",
       "      <td>7230</td>\n",
       "      <td>This property, sold on 04/22/2014, is a one-st...</td>\n",
       "      <td>2500.0</td>\n",
       "      <td>11.736069</td>\n",
       "      <td>6.946976</td>\n",
       "      <td>2</td>\n",
       "      <td>0</td>\n",
       "    </tr>\n",
       "  </tbody>\n",
       "</table>\n",
       "<p>168931 rows × 66 columns</p>\n",
       "</div>"
      ],
      "text/plain": [
       "                   PIN  Property Class  Neighborhood Code  Land Square Feet  \\\n",
       "1       13272240180000             202                120            3780.0   \n",
       "2       25221150230000             202                210            4375.0   \n",
       "3       10251130030000             203                220            4375.0   \n",
       "4       31361040550000             202                120            8400.0   \n",
       "6       30314240080000             203                181           10890.0   \n",
       "...                ...             ...                ...               ...   \n",
       "204787  25163010260000             202                321            4375.0   \n",
       "204788   5063010090000             204                 21           16509.0   \n",
       "204789  16333020150000             202                 90            3810.0   \n",
       "204790   9242030500000             203                 80            6650.0   \n",
       "204791  19102030080000             203                 30            2500.0   \n",
       "\n",
       "        Town Code  Apartments  Wall Material  Roof Material  Basement  \\\n",
       "1              71         0.0            2.0            1.0       1.0   \n",
       "2              70         0.0            2.0            1.0       2.0   \n",
       "3              17         0.0            3.0            1.0       1.0   \n",
       "4              32         0.0            3.0            1.0       2.0   \n",
       "6              37         0.0            1.0            1.0       1.0   \n",
       "...           ...         ...            ...            ...       ...   \n",
       "204787         72         0.0            2.0            1.0       1.0   \n",
       "204788         23         0.0            1.0            1.0       1.0   \n",
       "204789         15         0.0            2.0            1.0       1.0   \n",
       "204790         22         0.0            2.0            1.0       1.0   \n",
       "204791         72         0.0            1.0            1.0       1.0   \n",
       "\n",
       "        Basement Finish  ...  Pure Market Filter  Garage Indicator  \\\n",
       "1                   1.0  ...                   1               1.0   \n",
       "2                   3.0  ...                   1               1.0   \n",
       "3                   3.0  ...                   1               1.0   \n",
       "4                   3.0  ...                   1               1.0   \n",
       "6                   3.0  ...                   1               1.0   \n",
       "...                 ...  ...                 ...               ...   \n",
       "204787              1.0  ...                   1               1.0   \n",
       "204788              1.0  ...                   1               1.0   \n",
       "204789              1.0  ...                   1               1.0   \n",
       "204790              3.0  ...                   1               1.0   \n",
       "204791              3.0  ...                   1               0.0   \n",
       "\n",
       "        Neigborhood Code (mapping)  Town and Neighborhood  \\\n",
       "1                              120                  71120   \n",
       "2                              210                  70210   \n",
       "3                              220                  17220   \n",
       "4                              120                  32120   \n",
       "6                              181                  37181   \n",
       "...                            ...                    ...   \n",
       "204787                         321                  72321   \n",
       "204788                          21                   2321   \n",
       "204789                          90                   1590   \n",
       "204790                          80                   2280   \n",
       "204791                          30                   7230   \n",
       "\n",
       "                                              Description  Lot Size  \\\n",
       "1       This property, sold on 05/23/2018, is a one-st...    3780.0   \n",
       "2       This property, sold on 02/18/2016, is a one-st...    4375.0   \n",
       "3       This property, sold on 07/23/2013, is a one-st...    4375.0   \n",
       "4       This property, sold on 06/10/2016, is a one-st...    8400.0   \n",
       "6       This property, sold on 10/26/2017, is a one-st...   10890.0   \n",
       "...                                                   ...       ...   \n",
       "204787  This property, sold on 07/23/2014, is a one-st...    4375.0   \n",
       "204788  This property, sold on 03/27/2019, is a one-st...   16509.0   \n",
       "204789  This property, sold on 01/31/2014, is a one-st...    3810.0   \n",
       "204790  This property, sold on 02/22/2018, is a one-st...    6650.0   \n",
       "204791  This property, sold on 04/22/2014, is a one-st...    2500.0   \n",
       "\n",
       "        Log Sale Price  Log Building Square Feet  Bedrooms  \\\n",
       "1            12.560244                  6.904751         3   \n",
       "2             9.998798                  6.810142         3   \n",
       "3            12.323856                  7.068172         3   \n",
       "4            10.025705                  6.855409         2   \n",
       "6            11.512925                  7.458186         4   \n",
       "...                ...                       ...       ...   \n",
       "204787       10.521372                  6.813445         2   \n",
       "204788       12.323856                  7.603399         4   \n",
       "204789       11.813030                  6.815640         3   \n",
       "204790       12.879017                  7.092574         3   \n",
       "204791       11.736069                  6.946976         2   \n",
       "\n",
       "        in_expensive_neighborhood  \n",
       "1                               0  \n",
       "2                               0  \n",
       "3                               0  \n",
       "4                               0  \n",
       "6                               0  \n",
       "...                           ...  \n",
       "204787                          0  \n",
       "204788                          0  \n",
       "204789                          0  \n",
       "204790                          0  \n",
       "204791                          0  \n",
       "\n",
       "[168931 rows x 66 columns]"
      ]
     },
     "execution_count": 136,
     "metadata": {},
     "output_type": "execute_result"
    }
   ],
   "source": [
    "def add_in_expensive_neighborhood(data, neighborhoods):\n",
    "    \"\"\"\n",
    "    Input:\n",
    "      data (data frame): a data frame containing a 'Neighborhood Code' column with values\n",
    "        found in the codebook\n",
    "      neighborhoods (list of strings): strings should be the names of neighborhoods\n",
    "        pre-identified as rich\n",
    "    Output:\n",
    "      data frame identical to the input with the addition of a binary\n",
    "      in_rich_neighborhood column\n",
    "    \"\"\"\n",
    "    data['in_expensive_neighborhood'] = data['Neighborhood Code'].map(lambda code: code in neighborhoods).astype(int)\n",
    "    return data\n",
    "\n",
    "expensive_neighborhoods = find_expensive_neighborhoods(training_data, 3, np.median)\n",
    "training_data = add_in_expensive_neighborhood(training_data, expensive_neighborhoods)\n",
    "training_data"
   ]
  },
  {
   "cell_type": "code",
   "execution_count": 137,
   "metadata": {
    "deletable": false,
    "editable": false
   },
   "outputs": [
    {
     "data": {
      "text/html": [
       "\n",
       "    <p><strong>q5v</strong> passed!</p>\n",
       "    "
      ],
      "text/plain": [
       "q5v passed!"
      ]
     },
     "execution_count": 137,
     "metadata": {},
     "output_type": "execute_result"
    }
   ],
   "source": [
    "grader.check(\"q5v\")"
   ]
  },
  {
   "cell_type": "markdown",
   "metadata": {},
   "source": [
    "## Question 6"
   ]
  },
  {
   "cell_type": "markdown",
   "metadata": {},
   "source": [
    "In the following question, we will take a closer look at the `Roof Material` feature of the dataset and examine how we can incorporate categorical features into our linear model."
   ]
  },
  {
   "cell_type": "markdown",
   "metadata": {
    "deletable": false,
    "editable": false
   },
   "source": [
    "### Part 1\n",
    "\n",
    "If we look at the codebook carefully, we can see that the Assessor's Office uses the following mapping for the numerical values in the `Roof Material` column.\n",
    "```\n",
    "Central Heating (Nominal): \n",
    "\n",
    "       1\tShingle/Asphalt\n",
    "       2\tTar&Gravel\n",
    "       3\tSlate\n",
    "       4\tShake\n",
    "       5    Tile\n",
    "       6    Other\n",
    "```\n",
    "\n",
    "Write a function `substitute_roof_material` that replaces each numerical value in `Roof Material` with their corresponding roof material.\n",
    "\n",
    "**Hint**: the [DataFrame.replace](https://pandas.pydata.org/pandas-docs/stable/generated/pandas.DataFrame.replace.html) method may be useful here.\n",
    "\n",
    "<!--\n",
    "BEGIN QUESTION\n",
    "name: q6i\n",
    "points: 1\n",
    "-->\n"
   ]
  },
  {
   "cell_type": "code",
   "execution_count": 138,
   "metadata": {},
   "outputs": [
    {
     "data": {
      "text/plain": [
       "1.0    160760\n",
       "2.0      3774\n",
       "4.0      1620\n",
       "5.0      1201\n",
       "6.0       841\n",
       "3.0       735\n",
       "Name: Roof Material, dtype: int64"
      ]
     },
     "execution_count": 138,
     "metadata": {},
     "output_type": "execute_result"
    }
   ],
   "source": [
    "training_data['Roof Material'].value_counts()"
   ]
  },
  {
   "cell_type": "code",
   "execution_count": 139,
   "metadata": {},
   "outputs": [
    {
     "data": {
      "text/plain": [
       "1         Shingle/Asphalt\n",
       "2         Shingle/Asphalt\n",
       "3         Shingle/Asphalt\n",
       "4         Shingle/Asphalt\n",
       "6         Shingle/Asphalt\n",
       "               ...       \n",
       "204787    Shingle/Asphalt\n",
       "204788    Shingle/Asphalt\n",
       "204789    Shingle/Asphalt\n",
       "204790    Shingle/Asphalt\n",
       "204791    Shingle/Asphalt\n",
       "Name: Roof Material, Length: 168931, dtype: object"
      ]
     },
     "execution_count": 139,
     "metadata": {},
     "output_type": "execute_result"
    }
   ],
   "source": [
    "def substitute_roof_material(data):\n",
    "    \"\"\"\n",
    "    Input:\n",
    "      data (data frame): a data frame containing a 'Roof Material' column.  Its values\n",
    "                         should be limited to those found in the codebook\n",
    "    Output:\n",
    "      data frame identical to the input except with a refactored 'Roof Material' column\n",
    "    \"\"\"\n",
    "    new_data = data.replace({\n",
    "        'Roof Material': {\n",
    "            1.0 : 'Shingle/Asphalt',\n",
    "            2.0 : 'Tar&Gravel',\n",
    "            3.0 : 'Slate',\n",
    "            4.0 : 'Shake',\n",
    "            5.0 : 'Tile',\n",
    "            6.0 : 'Other'\n",
    "        }\n",
    "    })\n",
    "#     display(data['Roof Material'])\n",
    "    return new_data\n",
    "    \n",
    "training_data = substitute_roof_material(training_data)\n",
    "training_data['Roof Material']"
   ]
  },
  {
   "cell_type": "code",
   "execution_count": 140,
   "metadata": {
    "deletable": false,
    "editable": false
   },
   "outputs": [
    {
     "data": {
      "text/html": [
       "\n",
       "    <p><strong>q6i</strong> passed!</p>\n",
       "    "
      ],
      "text/plain": [
       "q6i passed!"
      ]
     },
     "execution_count": 140,
     "metadata": {},
     "output_type": "execute_result"
    }
   ],
   "source": [
    "grader.check(\"q6i\")"
   ]
  },
  {
   "cell_type": "markdown",
   "metadata": {},
   "source": [
    "### Part 2"
   ]
  },
  {
   "cell_type": "markdown",
   "metadata": {
    "deletable": false,
    "editable": false
   },
   "source": [
    "#### An Important Note on One Hot Encoding <a name=\"important_note\"></a>\n",
    "\n",
    "Unfortunately, simply fixing these missing values isn't sufficient for using `Roof Material` in our model.  Since `Roof Material` is a categorical variable, we will have to one-hot-encode the data.  Notice in the example code below that we have to pre-specify the categories.  Why? Imagine what would happen if we automatically generated the categories only from the training data.  What would happen if the testing data contained a category not found in the training set?  For more information on categorical data in pandas, refer to this [link](https://pandas-docs.github.io/pandas-docs-travis/categorical.html).\n",
    "\n",
    "Complete the following function `ohe_roof_material` that returns a dataframe with the new column one-hot-encoded on the roof material of the household. The new column should has the form `rfm_MATERIAL`.\n",
    "\n",
    "**Note**: You should **avoid using `pd.get_dummies`** in your solution as it will remove your original column and is therefore not as reusable as your construct your data preprocessing pipeline. Instead, you can one-hot-encode one column into multiple columns **using Scikit-learn's [One Hot Encoder](https://scikit-learn.org/stable/modules/generated/sklearn.preprocessing.OneHotEncoder.html)**.\n",
    "\n",
    "<!--\n",
    "BEGIN QUESTION\n",
    "name: q6ii\n",
    "points: 2\n",
    "-->"
   ]
  },
  {
   "cell_type": "code",
   "execution_count": 141,
   "metadata": {},
   "outputs": [],
   "source": [
    "# training_data"
   ]
  },
  {
   "cell_type": "code",
   "execution_count": 142,
   "metadata": {},
   "outputs": [
    {
     "data": {
      "text/html": [
       "<div>\n",
       "<style scoped>\n",
       "    .dataframe tbody tr th:only-of-type {\n",
       "        vertical-align: middle;\n",
       "    }\n",
       "\n",
       "    .dataframe tbody tr th {\n",
       "        vertical-align: top;\n",
       "    }\n",
       "\n",
       "    .dataframe thead th {\n",
       "        text-align: right;\n",
       "    }\n",
       "</style>\n",
       "<table border=\"1\" class=\"dataframe\">\n",
       "  <thead>\n",
       "    <tr style=\"text-align: right;\">\n",
       "      <th></th>\n",
       "      <th>x0_Other</th>\n",
       "      <th>x0_Shake</th>\n",
       "      <th>x0_Shingle/Asphalt</th>\n",
       "      <th>x0_Slate</th>\n",
       "      <th>x0_Tar&amp;Gravel</th>\n",
       "      <th>x0_Tile</th>\n",
       "    </tr>\n",
       "  </thead>\n",
       "  <tbody>\n",
       "    <tr>\n",
       "      <th>1</th>\n",
       "      <td>0.0</td>\n",
       "      <td>0.0</td>\n",
       "      <td>1.0</td>\n",
       "      <td>0.0</td>\n",
       "      <td>0.0</td>\n",
       "      <td>0.0</td>\n",
       "    </tr>\n",
       "    <tr>\n",
       "      <th>2</th>\n",
       "      <td>0.0</td>\n",
       "      <td>0.0</td>\n",
       "      <td>1.0</td>\n",
       "      <td>0.0</td>\n",
       "      <td>0.0</td>\n",
       "      <td>0.0</td>\n",
       "    </tr>\n",
       "    <tr>\n",
       "      <th>3</th>\n",
       "      <td>0.0</td>\n",
       "      <td>0.0</td>\n",
       "      <td>1.0</td>\n",
       "      <td>0.0</td>\n",
       "      <td>0.0</td>\n",
       "      <td>0.0</td>\n",
       "    </tr>\n",
       "    <tr>\n",
       "      <th>4</th>\n",
       "      <td>0.0</td>\n",
       "      <td>0.0</td>\n",
       "      <td>1.0</td>\n",
       "      <td>0.0</td>\n",
       "      <td>0.0</td>\n",
       "      <td>0.0</td>\n",
       "    </tr>\n",
       "    <tr>\n",
       "      <th>6</th>\n",
       "      <td>0.0</td>\n",
       "      <td>0.0</td>\n",
       "      <td>1.0</td>\n",
       "      <td>0.0</td>\n",
       "      <td>0.0</td>\n",
       "      <td>0.0</td>\n",
       "    </tr>\n",
       "    <tr>\n",
       "      <th>7</th>\n",
       "      <td>0.0</td>\n",
       "      <td>0.0</td>\n",
       "      <td>1.0</td>\n",
       "      <td>0.0</td>\n",
       "      <td>0.0</td>\n",
       "      <td>0.0</td>\n",
       "    </tr>\n",
       "    <tr>\n",
       "      <th>8</th>\n",
       "      <td>0.0</td>\n",
       "      <td>0.0</td>\n",
       "      <td>0.0</td>\n",
       "      <td>0.0</td>\n",
       "      <td>1.0</td>\n",
       "      <td>0.0</td>\n",
       "    </tr>\n",
       "    <tr>\n",
       "      <th>9</th>\n",
       "      <td>0.0</td>\n",
       "      <td>0.0</td>\n",
       "      <td>1.0</td>\n",
       "      <td>0.0</td>\n",
       "      <td>0.0</td>\n",
       "      <td>0.0</td>\n",
       "    </tr>\n",
       "    <tr>\n",
       "      <th>10</th>\n",
       "      <td>0.0</td>\n",
       "      <td>0.0</td>\n",
       "      <td>1.0</td>\n",
       "      <td>0.0</td>\n",
       "      <td>0.0</td>\n",
       "      <td>0.0</td>\n",
       "    </tr>\n",
       "    <tr>\n",
       "      <th>11</th>\n",
       "      <td>0.0</td>\n",
       "      <td>0.0</td>\n",
       "      <td>1.0</td>\n",
       "      <td>0.0</td>\n",
       "      <td>0.0</td>\n",
       "      <td>0.0</td>\n",
       "    </tr>\n",
       "  </tbody>\n",
       "</table>\n",
       "</div>"
      ],
      "text/plain": [
       "    x0_Other  x0_Shake  x0_Shingle/Asphalt  x0_Slate  x0_Tar&Gravel  x0_Tile\n",
       "1        0.0       0.0                 1.0       0.0            0.0      0.0\n",
       "2        0.0       0.0                 1.0       0.0            0.0      0.0\n",
       "3        0.0       0.0                 1.0       0.0            0.0      0.0\n",
       "4        0.0       0.0                 1.0       0.0            0.0      0.0\n",
       "6        0.0       0.0                 1.0       0.0            0.0      0.0\n",
       "7        0.0       0.0                 1.0       0.0            0.0      0.0\n",
       "8        0.0       0.0                 0.0       0.0            1.0      0.0\n",
       "9        0.0       0.0                 1.0       0.0            0.0      0.0\n",
       "10       0.0       0.0                 1.0       0.0            0.0      0.0\n",
       "11       0.0       0.0                 1.0       0.0            0.0      0.0"
      ]
     },
     "execution_count": 142,
     "metadata": {},
     "output_type": "execute_result"
    }
   ],
   "source": [
    "from sklearn.preprocessing import OneHotEncoder\n",
    "\n",
    "def ohe_roof_material(data):\n",
    "    \"\"\"\n",
    "    One-hot-encodes roof material.  New columns are of the form 0x_QUALITY.\n",
    "    \"\"\"\n",
    "    enc = OneHotEncoder()\n",
    "    enc.fit(data[['Roof Material']])\n",
    "    dummies = pd.DataFrame(\n",
    "        enc.transform(data[['Roof Material']]).todense(),\n",
    "        columns = enc.get_feature_names(),\n",
    "        index = data.index\n",
    "    )\n",
    "#     display(dummies)\n",
    "    return data.join(dummies)\n",
    "\n",
    "training_data = ohe_roof_material(training_data)\n",
    "training_data.filter(regex='^x0').head(10)"
   ]
  },
  {
   "cell_type": "code",
   "execution_count": 143,
   "metadata": {
    "deletable": false,
    "editable": false
   },
   "outputs": [
    {
     "data": {
      "text/html": [
       "\n",
       "    <p><strong>q6ii</strong> passed!</p>\n",
       "    "
      ],
      "text/plain": [
       "q6ii passed!"
      ]
     },
     "execution_count": 143,
     "metadata": {},
     "output_type": "execute_result"
    }
   ],
   "source": [
    "grader.check(\"q6ii\")"
   ]
  },
  {
   "cell_type": "markdown",
   "metadata": {
    "nbgrader": {
     "grade": false,
     "grade_id": "cell-5ffdfab3f8801658",
     "locked": true,
     "schema_version": 1,
     "solution": false
    }
   },
   "source": [
    "# Part 3: Modeling\n",
    "\n",
    "We've reached the point where we can specify a model.\n",
    "\n",
    "Before moving forward, let's actually make sure out dataset is properly prepared. Please make sure that the assertion statements in the following cell pass."
   ]
  },
  {
   "cell_type": "code",
   "execution_count": 144,
   "metadata": {},
   "outputs": [],
   "source": [
    "assert training_data.shape == (168931, 72)"
   ]
  },
  {
   "cell_type": "markdown",
   "metadata": {},
   "source": [
    "In addition, let's reassign `training_data` to a new variable `full_data`."
   ]
  },
  {
   "cell_type": "code",
   "execution_count": 145,
   "metadata": {},
   "outputs": [],
   "source": [
    "full_data = training_data"
   ]
  },
  {
   "cell_type": "markdown",
   "metadata": {
    "deletable": false,
    "editable": false
   },
   "source": [
    "## Question 7 <a name=\"q6\"></a>\n",
    "\n",
    "### Part 1\n",
    "\n",
    "Now, let's split the data set into a training set and test set. We will use the training set to fit our model's parameters, and we will use the test set to estimate how well our model will perform on unseen data drawn from the same distribution. If we used all the data to fit our model, we would not have a way to estimate model performance on unseen data.\n",
    "\n",
    "\"Don't we already have a test set in `cook_county_test.csv`?\" you might wonder. The sale prices for `cook_county_test.csv` aren't provided, so we're constructing our own test set for which we know the outputs.\n",
    "\n",
    "In the cell below, complete the function `train_test_split` that splits `data` into two smaller DataFrames named `train` and `test`. Let `train` contain 80% of the data, and let `test` contain the remaining 20% of the data. \n",
    "\n",
    "To do this, first create two NumPy arrays named `train_indices` and `test_indices`. `train_indices` should contain a *random* 80% of the indices in `full_data`, and `test_indices` should contain the remaining 20% of the indices. Then, use these arrays to index into `full_data` to create your final `train` and `test` DataFrames.\n",
    "\n",
    "*The provided tests check that you not only answered correctly, but ended up with the exact same train/test split as our reference implementation. Later testing is easier this way.*\n",
    "\n",
    "**Note**: You should not be importing any additional libraries for this question. \n",
    "\n",
    "<!--\n",
    "BEGIN QUESTION\n",
    "name: q7i\n",
    "points: 2\n",
    "-->"
   ]
  },
  {
   "cell_type": "code",
   "execution_count": 146,
   "metadata": {},
   "outputs": [],
   "source": [
    "# This makes the train-test split in this section reproducible across different runs \n",
    "# of the notebook. You do not need this line to run train_test_split in general\n",
    "\n",
    "# DO NOT CHANGE THIS LINE\n",
    "np.random.seed(1337)\n",
    "# DO NOT CHANGE THIS LINE\n",
    "\n",
    "def train_test_split(data):\n",
    "    data_len = data.shape[0]\n",
    "    shuffled_indices = np.random.permutation(data_len)\n",
    "    cut = int(data_len * 0.8)\n",
    "    train_indices = shuffled_indices[:cut]\n",
    "    test_indices = shuffled_indices[cut:]\n",
    "    return data.iloc[train_indices], data.iloc[test_indices]\n",
    "train, test = train_test_split(full_data)"
   ]
  },
  {
   "cell_type": "code",
   "execution_count": 147,
   "metadata": {
    "deletable": false,
    "editable": false
   },
   "outputs": [
    {
     "data": {
      "text/html": [
       "\n",
       "    <p><strong>q7i</strong> passed!</p>\n",
       "    "
      ],
      "text/plain": [
       "q7i passed!"
      ]
     },
     "execution_count": 147,
     "metadata": {},
     "output_type": "execute_result"
    }
   ],
   "source": [
    "grader.check(\"q7i\")"
   ]
  },
  {
   "cell_type": "markdown",
   "metadata": {},
   "source": [
    "It's finally time to fit our updated linear regression model using the ordinary least squares estimator! We will start you off with something simple by using only 2 features: the **number of bedrooms** in the household and the **log-transformed total area covered by the building** (in square feet). \n",
    "\n",
    "Consider the following expression for our 1st linear model that contains one of the features:\n",
    "\n",
    "$$\n",
    "\\text{Log Sale Price} = \\theta_0 + \\theta_1 \\cdot (\\text{Bedrooms})\n",
    "$$\n",
    "\n",
    "In parallel, we will also consider a 2nd model that contains both features:\n",
    "\n",
    "$$\n",
    "\\text{Log Sale Price} = \\theta_0 + \\theta_1 \\cdot (\\text{Bedrooms}) + \\theta_2 \\cdot (\\text{Log Building Square Feet})\n",
    "$$"
   ]
  },
  {
   "cell_type": "markdown",
   "metadata": {
    "deletable": false,
    "editable": false
   },
   "source": [
    "<!-- BEGIN QUESTION -->\n",
    "\n",
    "### Part 2\n",
    "\n",
    "**Without running any calculation or code**, complete the following statement by filling in the blank with one of the  comparators below:\n",
    "\n",
    "$$\\ge$$\n",
    "$$\\le$$\n",
    "$$=$$\n",
    "\n",
    "Suppose we quantify the loss on our linear models using MSE (Mean Squared Error). Consider the training loss of the 1st model and the training loss of the 2nd model. We are guaranteed that:\n",
    "\n",
    "$$\n",
    "\\text{Training Loss of the 1st Model}  \\_\\_\\_\\_\\_  \\text{Training Loss of the 2nd Model}\n",
    "$$\n",
    "\n",
    "<!--\n",
    "BEGIN QUESTION\n",
    "name: q7ii\n",
    "points: 1\n",
    "manual: True\n",
    "-->"
   ]
  },
  {
   "cell_type": "markdown",
   "metadata": {},
   "source": [
    "$$\\ge$$"
   ]
  },
  {
   "cell_type": "markdown",
   "metadata": {
    "nbgrader": {
     "grade": false,
     "grade_id": "cell-acdc861fd11912e9",
     "locked": true,
     "schema_version": 1,
     "solution": false
    }
   },
   "source": [
    "<!-- END QUESTION -->\n",
    "\n",
    "\n",
    "\n",
    "Throughout this assignment, you should notice that your data flows through a single processing pipeline several times.  From a software engineering perspective, it's best to define functions/methods that can apply the pipeline to any dataset.  We will now encapsulate our entire pipeline into a single function `process_data_gm`. \n",
    "\n",
    "Take a look at the following function `process_data_gm` that takes in the dataframe `data`, a list `pipeline_functions` containing 3-element tuples `(function, arguments, keyword_arguments)` that will be called on `data` in the pipeline, and the label `prediction_col` that represents the column of our target variable (`Sale Price` in this case). It returns two dataframes: `X`, which is our design matrix, and `y` which is the vector containing the observed data.\n",
    "\n",
    "To see more of how this function can be used, please see the example below the next cell.\n",
    "\n",
    "Take a look at [pd.DataFrame.pipe](https://pandas.pydata.org/pandas-docs/stable/reference/api/pandas.DataFrame.pipe.html); you can use this function with each of the tuples passed in through `pipeline_functions`.\n",
    "\n",
    "**Note: As there are many ways to encapsulate your workflow in a way that works best for you, you are not required to follow the setup below as you prepare your own data.**"
   ]
  },
  {
   "cell_type": "code",
   "execution_count": 148,
   "metadata": {
    "nbgrader": {
     "grade": false,
     "grade_id": "cell-2fe1d82b2c19d1fa",
     "locked": true,
     "schema_version": 1,
     "solution": false
    }
   },
   "outputs": [],
   "source": [
    "def process_data_gm(data, pipeline_functions, prediction_col):\n",
    "    \"\"\"Process the data for a guided model.\"\"\"\n",
    "    for function, arguments, keyword_arguments in pipeline_functions:\n",
    "        if keyword_arguments and (not arguments):\n",
    "            data = data.pipe(function, **keyword_arguments)\n",
    "        elif (not keyword_arguments) and (arguments):\n",
    "            data = data.pipe(function, *arguments)\n",
    "        else:\n",
    "            data = data.pipe(function)\n",
    "    X = data.drop(columns=[prediction_col]).to_numpy()\n",
    "    y = data.loc[:, prediction_col].to_numpy()\n",
    "    return X, y\n",
    "\n",
    "def select_columns(data, *columns):\n",
    "    \"\"\"Select only columns passed as arguments.\"\"\"\n",
    "    return data.loc[:, columns]"
   ]
  },
  {
   "cell_type": "markdown",
   "metadata": {},
   "source": [
    "Let's run this cell again to make sure the train-test split is reproducible across different runs."
   ]
  },
  {
   "cell_type": "code",
   "execution_count": 149,
   "metadata": {},
   "outputs": [],
   "source": [
    "np.random.seed(1337)"
   ]
  },
  {
   "cell_type": "markdown",
   "metadata": {
    "deletable": false,
    "editable": false
   },
   "source": [
    "### Part 3\n",
    "\n",
    "It is time to prepare the training and test data for the 2 models we proposed above. Use the following 3 cells to reload a fresh dataset from scratch and run them through the following preprocessing steps for each model:\n",
    "\n",
    "- Perform a train-test split on the original dataset. Let 80% of the set be training data and 20% of the set be test data.\n",
    "- For both the training and testing set,\n",
    "    1. Remove outliers in `Sale Price` by so that we are considering households with a price that is strictly greater than 499 dollars (i.e., greater than or equal to 500 dollars). \n",
    "    2. Apply log transformations to `Sale Price` and the `Building Squre Feet` columns to create 2 new columns `Log Sale Price` and `Log Building Square Feet`.\n",
    "    3. Extract the total number of bathrooms into a new column `Bedrooms` from the `Description` column.\n",
    "    4. Select the columns `Log Sale Price` and `Bedrooms` (and `Log Building Square Feet` as well if this is the 2nd model).\n",
    "    5. Return the design matrix $X$ and the observed vector $y$. **Your design matrix and observed vector should either be numpy arrays or pandas dataframes**.\n",
    "    \n",
    "\n",
    "Assign the final training data and testing data for both models to the following set of variables:\n",
    "\n",
    "- 1st Model: `X_train_m1`, `y_train_m1`, `X_test_m1`, `y_test_m1`\n",
    "- 2nd Model: `X_train_m2`, `y_train_m2`, `X_test_m2`, `y_test_m2`\n",
    "   \n",
    "**Hint**: You have already defined functions in parts of the assignment that can help you accomplish these steps.\n",
    "\n",
    "**Hint**: If you are not following the example approach shown above in `process_data_gm`, it could be helpful to define your function that encapsulates all of the preprocessing you need to call on the data.\n",
    "\n",
    "**Hint**: Try to start by preparing the data for the first model. The steps should be very similar for the second model.\n",
    "\n",
    "**Note**: Do not change the line `np.random.seed(1337)` as it ensures we are partitioning the dataset exactly the same way for both models (otherwise their performance isn't directly comparable).\n",
    "\n",
    "<!--\n",
    "BEGIN QUESTION\n",
    "name: q7iii\n",
    "points: 3\n",
    "-->"
   ]
  },
  {
   "cell_type": "code",
   "execution_count": 150,
   "metadata": {},
   "outputs": [],
   "source": [
    "def f_remove_outliers(data):\n",
    "    return data.loc[data['Sale Price'] >= 500]\n",
    "def apply_logs(data):\n",
    "    data['Log Sale Price'] = data['Sale Price'].apply(np.log)\n",
    "    data['Log Building Square Feet'] = data['Building Square Feet'].apply(np.log)\n",
    "    return data\n",
    "# def add_total_bedrooms(data)\n",
    "\n",
    "def select_m1_columns(data):\n",
    "    return select_columns(data, 'Log Sale Price', 'Bedrooms')\n",
    "def select_m2_columns(data):\n",
    "    return select_columns(data, 'Log Sale Price', 'Bedrooms', 'Log Building Square Feet')\n"
   ]
  },
  {
   "cell_type": "code",
   "execution_count": 151,
   "metadata": {},
   "outputs": [],
   "source": [
    "# Reload and preprocess the data for 1st model\n",
    "full_data = pd.read_csv(\"cook_county_train.csv\")\n",
    "\n",
    "# Reload and preprocess the data for the 1st model\n",
    "train, test = train_test_split(full_data)\n",
    "\n",
    "Xtn, ytn = process_data_gm(\n",
    "    data = train,\n",
    "    pipeline_functions = [\n",
    "        (\n",
    "            (f_remove_outliers, 'data'), None, None\n",
    "        ),\n",
    "        (\n",
    "            (apply_logs, 'data'), None, None\n",
    "        ),\n",
    "        (\n",
    "            (add_total_bedrooms, 'data'), None, None\n",
    "        ),\n",
    "        (\n",
    "            (select_m1_columns, 'data'), None, None\n",
    "        )\n",
    "    ],\n",
    "    prediction_col = 'Log Sale Price'\n",
    ")\n",
    "Xtt, ytt = process_data_gm(\n",
    "    data = test,\n",
    "    pipeline_functions = [\n",
    "        (\n",
    "            (f_remove_outliers, 'data'), None, None\n",
    "        ),\n",
    "        (\n",
    "            (apply_logs, 'data'), None, None\n",
    "        ),\n",
    "        (\n",
    "            (add_total_bedrooms, 'data'), None, None\n",
    "        ),\n",
    "        (\n",
    "            (select_m1_columns, 'data'), None, None\n",
    "        )\n",
    "    ],\n",
    "    prediction_col = 'Log Sale Price'\n",
    ")\n",
    "\n",
    "X_train_m1, y_train_m1, X_test_m1, y_test_m1 = Xtn, ytn, Xtt, ytt\n",
    "# DO NOT CHANGE THIS LINE\n",
    "np.random.seed(1337)\n",
    "# DO NOT CHANGE THIS LINE\n",
    "\n",
    "# Reload and preprocess the data for 2nd model\n",
    "train, test = train_test_split(full_data)\n",
    "\n",
    "Xtn, ytn = process_data_gm(\n",
    "    data = train,\n",
    "    pipeline_functions = [\n",
    "        (\n",
    "            (f_remove_outliers, 'data'), None, None\n",
    "        ),\n",
    "        (\n",
    "            (apply_logs, 'data'), None, None\n",
    "        ),\n",
    "        (\n",
    "            (add_total_bedrooms, 'data'), None, None\n",
    "        ),\n",
    "        (\n",
    "            (select_m2_columns, 'data'), None, None\n",
    "        )\n",
    "    ],\n",
    "    prediction_col = 'Log Sale Price'\n",
    ")\n",
    "Xtt, ytt = process_data_gm(\n",
    "    data = test,\n",
    "    pipeline_functions = [\n",
    "        (\n",
    "            (f_remove_outliers, 'data'), None, None\n",
    "        ),\n",
    "        (\n",
    "            (apply_logs, 'data'), None, None\n",
    "        ),\n",
    "        (\n",
    "            (add_total_bedrooms, 'data'), None, None\n",
    "        ),\n",
    "        (\n",
    "            (select_m2_columns, 'data'), None, None\n",
    "        )\n",
    "    ],\n",
    "    prediction_col = 'Log Sale Price'\n",
    ")\n",
    "\n",
    "X_train_m2, y_train_m2, X_test_m2, y_test_m2 = Xtn, ytn, Xtt, ytt"
   ]
  },
  {
   "cell_type": "code",
   "execution_count": 152,
   "metadata": {
    "deletable": false,
    "editable": false
   },
   "outputs": [
    {
     "data": {
      "text/html": [
       "\n",
       "    <p><strong>q7iii</strong> passed!</p>\n",
       "    "
      ],
      "text/plain": [
       "q7iii passed!"
      ]
     },
     "execution_count": 152,
     "metadata": {},
     "output_type": "execute_result"
    }
   ],
   "source": [
    "grader.check(\"q7iii\")"
   ]
  },
  {
   "cell_type": "markdown",
   "metadata": {},
   "source": [
    "### Part 4\n",
    "\n",
    "Finally, let's do some regression!"
   ]
  },
  {
   "cell_type": "markdown",
   "metadata": {},
   "source": [
    "We first initialize a [`sklearn.linear_model.LinearRegression`](https://scikit-learn.org/stable/modules/generated/sklearn.linear_model.LinearRegression.html) object for both of our models. We set the `fit_intercept = True` to ensure that the linear model has a non-zero intercept."
   ]
  },
  {
   "cell_type": "code",
   "execution_count": 153,
   "metadata": {},
   "outputs": [],
   "source": [
    "from sklearn import linear_model as lm\n",
    "\n",
    "linear_model_m1 = lm.LinearRegression(fit_intercept=True)\n",
    "linear_model_m2 = lm.LinearRegression(fit_intercept=True)"
   ]
  },
  {
   "cell_type": "markdown",
   "metadata": {
    "deletable": false,
    "editable": false
   },
   "source": [
    "Now it's time to fit our updated linear regression model. Use the cell below to estimate both models, and then use it to compute the fitted value of `Sale Price` over the training data and the predicted the values of `Sale Price` using the testing data respectively. \n",
    "\n",
    "Assign the predicted values from both of your models on the training and testing set to the following variables:\n",
    "\n",
    "- 1st Model: prediction on training set: `y_fitted_m1`, prediction on testing set: `y_predicted_m1`\n",
    "- 2nd Model: prediction on training set: `y_fitted_m2`, prediction on testing set: `y_predicted_m2`\n",
    "\n",
    "**Note**: To make sure you understand how to find the predicted value for both the training and testing data set, there won't be any hidden test for this part.\n",
    "<!--\n",
    "BEGIN QUESTION\n",
    "name: q7iv\n",
    "points: 1\n",
    "-->"
   ]
  },
  {
   "cell_type": "code",
   "execution_count": 154,
   "metadata": {},
   "outputs": [
    {
     "name": "stdout",
     "output_type": "stream",
     "text": [
      "Max:\n",
      "y_fitted_m1:\t17.528601849438104\n",
      "y_predicted_m1:\t15.540922864181525\n",
      "y_fitted_m2:\t15.61409622443917\n",
      "y_predicted_m2:\t15.025639633057672\n",
      "\n"
     ]
    }
   ],
   "source": [
    "# Fit the 1st model\n",
    "linear_model_m1.fit(X_train_m1, y_train_m1)\n",
    "# Compute the fitted and predicted values of Sale Price for 1st model\n",
    "y_fitted_m1 = linear_model_m1.predict(X_train_m1)\n",
    "y_predicted_m1 = linear_model_m1.predict(X_test_m1)\n",
    "\n",
    "# Fit the 2nd model\n",
    "linear_model_m2.fit(X_train_m2, y_train_m2)\n",
    "# Compute the fitted and predicted values of Sale Price for 1st model\n",
    "y_fitted_m2 = linear_model_m2.predict(X_train_m2)\n",
    "y_predicted_m2 = linear_model_m2.predict(X_test_m2)\n",
    "\n",
    "print(f'Max:\\ny_fitted_m1:\\t{y_fitted_m1.max()}\\ny_predicted_m1:\\t{y_predicted_m1.max()}\\ny_fitted_m2:\\t{y_fitted_m2.max()}\\ny_predicted_m2:\\t{y_predicted_m2.max()}\\n')"
   ]
  },
  {
   "cell_type": "code",
   "execution_count": 155,
   "metadata": {
    "deletable": false,
    "editable": false
   },
   "outputs": [
    {
     "data": {
      "text/html": [
       "\n",
       "    <p><strong>q7iv</strong> passed!</p>\n",
       "    "
      ],
      "text/plain": [
       "q7iv passed!"
      ]
     },
     "execution_count": 155,
     "metadata": {},
     "output_type": "execute_result"
    }
   ],
   "source": [
    "grader.check(\"q7iv\")"
   ]
  },
  {
   "cell_type": "markdown",
   "metadata": {},
   "source": [
    "### Part 5\n",
    "\n",
    "Let's compare the performance of our two regression models using the Root Mean Squared Error function that we created in Homework 5.\n",
    "\n",
    "$$RMSE = \\sqrt{\\dfrac{\\sum_{\\text{houses in test set}}(\\text{actual price for house} - \\text{predicted price for house})^2}{\\text{number of of houses}}}$$\n",
    "\n",
    "The function is provided below."
   ]
  },
  {
   "cell_type": "code",
   "execution_count": 156,
   "metadata": {},
   "outputs": [],
   "source": [
    "def rmse(predicted, actual):\n",
    "    \"\"\"\n",
    "    Calculates RMSE from actual and predicted values\n",
    "    Input:\n",
    "      predicted (1D array): vector of predicted/fitted values\n",
    "      actual (1D array): vector of actual values\n",
    "    Output:\n",
    "      a float, the root-mean square error\n",
    "    \"\"\"\n",
    "    return np.sqrt(np.mean((actual - predicted)**2))"
   ]
  },
  {
   "cell_type": "markdown",
   "metadata": {
    "deletable": false,
    "editable": false
   },
   "source": [
    "Now use your `rmse` function to calculate the training error and test error for both models in the cell below.\n",
    "\n",
    "Assign the error from both of your models to the following variables:\n",
    "\n",
    "- 1st model: `training_error_m1`, `test_error_m1`\n",
    "- 2nd model: `training_error_m2`, `test_error_m2`\n",
    "\n",
    "Since the target variable we are working with is log-transformed, it can also be beneficial to transform it back to its original form so we will have more context on how our model is performing when compared to actual housing prices.\n",
    "\n",
    "Assign the error on the \"de-log-transformed\" sale price from both of your models to the following variables:\n",
    "\n",
    "- 1st model: `training_error_m1_delog`, `test_error_m1_delog`\n",
    "- 2nd model: `training_error_m2_delog`, `test_error_m2_delog`\n",
    "\n",
    "<!--\n",
    "BEGIN QUESTION\n",
    "name: q7v\n",
    "points: 2\n",
    "-->"
   ]
  },
  {
   "cell_type": "code",
   "execution_count": 157,
   "metadata": {},
   "outputs": [
    {
     "name": "stdout",
     "output_type": "stream",
     "text": [
      "1st Model\n",
      "Training RMSE: 0.9025651719699077\n",
      "Test RMSE: 0.9068644732045896\n",
      "\n",
      "1st Model (no log transform)\n",
      "Training RMSE: 382697.78149699024\n",
      "Test RMSE: 310679.2486611569\n",
      "\n",
      "2nd Model\n",
      "Training RMSE: 0.9025651719699077\n",
      "Test RMSE: 0.8113963052434995\n",
      "\n",
      "2nd Model (no log transform)\n",
      "Training RMSE: 382697.78149699024\n",
      "Test RMSE: 254880.42228506133\n",
      "\n"
     ]
    }
   ],
   "source": [
    "# Training and test errors for the 1st model\n",
    "training_error_m1 = rmse(y_fitted_m1, y_train_m1)\n",
    "test_error_m1 = rmse(y_predicted_m1, y_test_m1)\n",
    "\n",
    "# Training and test errors for the 1st model (in its original values before the log transform)\n",
    "training_error_m1_delog = rmse(np.exp(y_fitted_m1), np.exp(y_train_m1))\n",
    "test_error_m1_delog = rmse(np.exp(y_predicted_m1), np.exp(y_test_m1))\n",
    "\n",
    "\n",
    "# Training and test errors for the 2nd model\n",
    "training_error_m2 = rmse(y_fitted_m1, y_train_m1)\n",
    "test_error_m2 = rmse(y_predicted_m2, y_test_m2)\n",
    "\n",
    "\n",
    "# Training and test errors for the 2nd model (in its original values before the log transform)\n",
    "training_error_m2_delog = rmse(np.exp(y_fitted_m1), np.exp(y_train_m1))\n",
    "test_error_m2_delog = rmse(np.exp(y_predicted_m2), np.exp(y_test_m2))\n",
    "\n",
    "print(\"1st Model\\nTraining RMSE: {}\\nTest RMSE: {}\\n\".format(training_error_m1, test_error_m1))\n",
    "print(\"1st Model (no log transform)\\nTraining RMSE: {}\\nTest RMSE: {}\\n\".format(training_error_m1_delog, test_error_m1_delog))\n",
    "print(\"2nd Model\\nTraining RMSE: {}\\nTest RMSE: {}\\n\".format(training_error_m2, test_error_m2))\n",
    "print(\"2nd Model (no log transform)\\nTraining RMSE: {}\\nTest RMSE: {}\\n\".format(training_error_m2_delog, test_error_m2_delog))"
   ]
  },
  {
   "cell_type": "code",
   "execution_count": 158,
   "metadata": {
    "deletable": false,
    "editable": false
   },
   "outputs": [
    {
     "data": {
      "text/html": [
       "\n",
       "    <p><strong>q7v</strong> passed!</p>\n",
       "    "
      ],
      "text/plain": [
       "q7v passed!"
      ]
     },
     "execution_count": 158,
     "metadata": {},
     "output_type": "execute_result"
    }
   ],
   "source": [
    "grader.check(\"q7v\")"
   ]
  },
  {
   "cell_type": "markdown",
   "metadata": {
    "deletable": false,
    "editable": false
   },
   "source": [
    "<!-- BEGIN QUESTION -->\n",
    "\n",
    "### Part 6\n",
    "\n",
    "Let's compare the actual parameters ($\\theta_0$ and $\\theta_1$) from both of our models. As a quick reminder,\n",
    "\n",
    "for the 1st model,\n",
    "$$\n",
    "\\text{Log Sale Price} = \\theta_0 + \\theta_1 \\cdot (\\text{Bedrooms})\n",
    "$$\n",
    "\n",
    "for the 2nd model,\n",
    "$$\n",
    "\\text{Log Sale Price} = \\theta_0 + \\theta_1 \\cdot (\\text{Bedrooms}) + \\theta_2 \\cdot (\\text{Log Building Square Feet})\n",
    "$$\n",
    "\n",
    "Run the following cell and compare the values of $\\theta_1$ from both models. Why does $\\theta_1$ change from positive to negative when we introduce an additional feature in our 2nd model? \n",
    "\n",
    "<!--\n",
    "BEGIN QUESTION\n",
    "name: q7vi\n",
    "points: 1\n",
    "manual: True\n",
    "-->"
   ]
  },
  {
   "cell_type": "code",
   "execution_count": 159,
   "metadata": {},
   "outputs": [
    {
     "name": "stdout",
     "output_type": "stream",
     "text": [
      "1st Model\n",
      "θ0: 10.571725401040084\n",
      "θ1: 0.4969197463141442\n",
      "2nd Model\n",
      "θ0: 1.9339633173823714\n",
      "θ1: -0.030647249803554506\n",
      "θ2: 1.4170991378689641\n"
     ]
    }
   ],
   "source": [
    "# Parameters from 1st model\n",
    "theta0_m1 = linear_model_m1.intercept_\n",
    "theta1_m1 = linear_model_m1.coef_[0]\n",
    "\n",
    "# Parameters from 2nd model\n",
    "theta0_m2 = linear_model_m2.intercept_\n",
    "theta1_m2, theta2_m2 = linear_model_m2.coef_\n",
    "\n",
    "print(\"1st Model\\nθ0: {}\\nθ1: {}\".format(theta0_m1, theta1_m1))\n",
    "print(\"2nd Model\\nθ0: {}\\nθ1: {}\\nθ2: {}\".format(theta0_m2, theta1_m2, theta2_m2))"
   ]
  },
  {
   "cell_type": "markdown",
   "metadata": {},
   "source": [
    "If you have too many bedrooms in a small building it will seem cramped which may affect the prices negatively."
   ]
  },
  {
   "cell_type": "markdown",
   "metadata": {
    "deletable": false,
    "editable": false,
    "nbgrader": {
     "grade": false,
     "grade_id": "cell-a359da2dda38fcdd",
     "locked": true,
     "schema_version": 1,
     "solution": false
    }
   },
   "source": [
    "<!-- END QUESTION -->\n",
    "\n",
    "<!-- BEGIN QUESTION -->\n",
    "\n",
    "### Part 7\n",
    "\n",
    "Another way of understanding the performance (and appropriateness) of a model is through a residual plot. \n",
    "\n",
    "In the cell below, use `plt.scatter` to plot the predicted `Log Sale Price` from **only the 2nd model** against the original `Log Sale Price` for the test data. You should also ensure that the dot size and opacity in the scatter plot are set appropriately to reduce the impact of overplotting.\n",
    "\n",
    "<!--\n",
    "BEGIN QUESTION\n",
    "name: q7vii\n",
    "points: 2\n",
    "manual: True\n",
    "format: image\n",
    "-->"
   ]
  },
  {
   "cell_type": "code",
   "execution_count": 160,
   "metadata": {
    "nbgrader": {
     "grade": false,
     "grade_id": "cell-4d79f42d60b94fca",
     "locked": true,
     "schema_version": 1,
     "solution": false
    }
   },
   "outputs": [
    {
     "data": {
      "text/plain": [
       "<AxesSubplot:>"
      ]
     },
     "execution_count": 160,
     "metadata": {},
     "output_type": "execute_result"
    },
    {
     "data": {
      "image/png": "[encoded data removed]",
      "text/plain": [
       "<Figure size 864x648 with 1 Axes>"
      ]
     },
     "metadata": {
      "needs_background": "light"
     },
     "output_type": "display_data"
    }
   ],
   "source": [
    "sns.scatterplot(x=y_predicted_m2, y=y_test_m2, alpha=0.2, s=5)"
   ]
  },
  {
   "cell_type": "markdown",
   "metadata": {},
   "source": [
    "<!-- END QUESTION -->\n",
    "\n",
    "\n",
    "\n",
    "As you can see, our simple model has already got off to a good start, but there is certainly still a lot of room for improvement to be made -- one simple reason is we have been only utilizing 1 or 2 features (out of a total of 70+) so far! Can you engineer and incoporate more features to improve the model's accuracy? We won't be asking you to provide your answers here, but this would be important going into the next part (also last part wohoo!) of this assignment."
   ]
  },
  {
   "cell_type": "markdown",
   "metadata": {
    "deletable": false,
    "editable": false
   },
   "source": [
    "## Question 8 <a name=\"q8c\"></a>\n",
    "\n",
    "It is time to build your own model!\n",
    "\n",
    "Just as in the guided model from the previous question, you should encapsulate as much of your workflow into functions as possible. Your job is to select better features and define your own feature engineering pipeline inside the function `process_data_fm` in the following cell. **You must not change the parameters inside `process_data_fm`**.\n",
    "\n",
    "To evaluate your model, we will start by defining a linear regression model called `final_model`. Then, we will process training data using your `process_data_fm`, fit `final_model` with this training data, and compute the training RMSE. Then, we will process the test data with your `process_data_fm`, use `final_model` to predict `Log Sale Price` for the test data, transform the predicted and original log values back into their original forms, and compute the test RMSE. See below for an example of the code we will run to grade your model:\n",
    "\n",
    "**Note**: `delog` is a function we will run to undo the log transformation on your predictions/original sale prices.\n",
    "```\n",
    "final_model = lm.LinearRegression(fit_intercept=True)\n",
    "\n",
    "training_data = pd.read_csv('cook_county_train.csv')\n",
    "test_data = pd.read_csv('cook_county_test.csv')\n",
    "\n",
    "X_train, y_train = process_data_fm(training_data)\n",
    "X_test, y_test = process_data_fm(test_data)\n",
    "\n",
    "final_model.fit(X_train, y_train)\n",
    "y_predicted_train = final_model.predict(X_train)\n",
    "y_predicted_test = final_model.predict(X_test)\n",
    "\n",
    "training_rmse = rmse(delog(y_predicted_train), delog(y_train))\n",
    "test_rmse = rmse(delog(y_predicted_test), delog(y_test))\n",
    "```\n",
    "\n",
    "**Note:** It is your duty to make sure that all of your feature engineering and selection happens in `process_data_fm`, and that the function performs as expected without errors. We will **NOT** accept regrade requests that require us to go back and run code that require typo/bug fixes.\n",
    "\n",
    "**Hint:** Some features may have missing values in the test set but not in the training set. Make sure `process_data_fm` handles missing values appropriately for each feature!\n",
    "\n",
    "**Note**: You **MUST remove any additional new cells you add below the current one before submitting to Gradescope** to avoid any autograder errors. \n",
    "\n",
    "### Grading Scheme\n",
    "\n",
    "Your grade for Question 8 will be based on your training RMSE and test RMSE. The thresholds are as follows:\n",
    "\n",
    "Points | 3 | 2 | 1 | 0\n",
    "--- | --- | --- | --- | ---\n",
    "Training RMSE | Less than 80k | [80k, 160k) | [160k, 260k) | More than 260k\n",
    "\n",
    "Points | 3 | 2 | 1 | 0\n",
    "--- | --- | --- | --- | ---\n",
    "Test RMSE | Less than 85k | [85k, 165k) | [165k, 265k) | More than 265k\n",
    "\n",
    "<!--\n",
    "BEGIN QUESTION\n",
    "name: q8\n",
    "points: 6\n",
    "-->"
   ]
  },
  {
   "cell_type": "code",
   "execution_count": null,
   "metadata": {},
   "outputs": [],
   "source": [
    "full_data['Lot Size'].max()\n",
    "gt500 = remove_outliers(full_data, 'Sale Price', lower=500)"
   ]
  },
  {
   "cell_type": "code",
   "execution_count": 187,
   "metadata": {},
   "outputs": [
    {
     "data": {
      "text/plain": [
       "array([5.00000000e+02, 7.28601034e+06])"
      ]
     },
     "execution_count": 187,
     "metadata": {},
     "output_type": "execute_result"
    }
   ],
   "source": [
    "q = 0.99995\n",
    "p = 1-q\n",
    "gt500['Sale Price'].quantile([p, q]).values"
   ]
  },
  {
   "cell_type": "code",
   "execution_count": 201,
   "metadata": {},
   "outputs": [],
   "source": [
    "# Define any additional helper functions you need here\n",
    "#Important housing properties: # Bedrooms, # Bathrooms, Building Square Feet, Lot Size, Neighborhood Code\n",
    "\n",
    "# def add_total_bedrooms(data):\n",
    "def add_total_bathrooms(data):\n",
    "    \"\"\"\n",
    "    Input:\n",
    "      data (data frame): a data frame containing at least the Description column.\n",
    "    \"\"\"\n",
    "    with_baths = data.copy()\n",
    "    with_baths['Bathrooms'] = with_baths['Description'].str.extract(r'([0-9]*[.]?[0-9]+) of which are bathrooms').astype(float, errors='ignore').fillna(0)\n",
    "    return with_baths\n",
    "\n",
    "def apply_log(data, columns):\n",
    "    for column in columns:\n",
    "        data['Log ' + column] = data[column].astype(float, errors='ignore').fillna(0).apply(np.log)\n",
    "    return data\n",
    "\n",
    "def ohe_columns(data, columns):\n",
    "    features = []\n",
    "    for column in columns:\n",
    "        enc = OneHotEncoder()\n",
    "        enc.fit(data[[column]])\n",
    "        dummies = pd.DataFrame(\n",
    "            enc.transform(data[[column]]).todense(),\n",
    "            columns = enc.get_feature_names(),\n",
    "            index = data.index\n",
    "        )\n",
    "        features += list(enc.get_feature_names())\n",
    "        data = data.join(dummies)\n",
    "    return data, features\n",
    "\n",
    "replacer = {\n",
    "    'Wall Material': {\n",
    "        1: 'Wood',\n",
    "        2: 'Masonry',\n",
    "        3: 'Wood&Masonry',\n",
    "        4: 'Stucco'\n",
    "    },\n",
    "    'Roof Material': {\n",
    "        1.0 : 'Shingle/Asphalt',\n",
    "        2.0 : 'Tar&Gravel',\n",
    "        3.0 : 'Slate',\n",
    "        4.0 : 'Shake',\n",
    "        5.0 : 'Tile',\n",
    "        6.0 : 'Other'\n",
    "    },\n",
    "    'Garage 1 Size': {\n",
    "        1: 1,\n",
    "        2: 1.5,\n",
    "        3: 2,\n",
    "        4: 2.5,\n",
    "        5: 3,\n",
    "        6: 3.5,\n",
    "        7: 0,\n",
    "        8: 4\n",
    "    },\n",
    "    'Garage 2 Size': {\n",
    "        1: 1,\n",
    "        2: 1.5,\n",
    "        3: 2,\n",
    "        4: 2.5,\n",
    "        5: 3,\n",
    "        6: 3.5,\n",
    "        7: 0,\n",
    "        8: 4\n",
    "    }\n",
    "}\n",
    "\n",
    "\n",
    "\n",
    "# Please include all of your feature engineering process inside this function.\n",
    "def process_data_fm(data):\n",
    "    prices = ['Sale Price', 'Estimate (Land)', 'Estimate (Building)']\n",
    "    for price in prices:\n",
    "        data = remove_outliers(data, price, lower=500)\n",
    "    q = 0.9999\n",
    "    p = 1 - q\n",
    "    cols = ['Sale Price', 'Estimate (Land)', 'Estimate (Building)', 'Building Square Feet', 'Lot Size', 'Land Square Feet']\n",
    "    for col in cols:\n",
    "        outliers = data[col].quantile([p, q]).values\n",
    "        data = remove_outliers(data, col, lower=outliers[0], upper=outliers[1])\n",
    "    data = add_total_bedrooms(data)\n",
    "    data = add_total_bathrooms(data)\n",
    "    data = apply_log(data, ['Sale Price', 'Building Square Feet', 'Lot Size', 'Land Square Feet', 'Estimate (Land)', 'Estimate (Building)'])\n",
    "    data = data.replace(replacer)\n",
    "    data, features = ohe_columns(data, ['Wall Material', 'Roof Material'])\n",
    "    columns = [\n",
    "        'Bedrooms',\n",
    "        'Bathrooms',\n",
    "        'Log Sale Price',\n",
    "        'Log Building Square Feet',\n",
    "        'Log Lot Size',\n",
    "        'Garage 1 Size',\n",
    "        'Garage 2 Size',\n",
    "        'Age',\n",
    "        'Log Estimate (Land)',\n",
    "        'Log Estimate (Building)'\n",
    "    ]\n",
    "#     print(features)\n",
    "    columns = columns + features\n",
    "    data = select_columns(data, *columns)\n",
    "    # Return predictors and response variables separately\n",
    "    X = data.drop(['Log Sale Price'], axis = 1)\n",
    "    y = data.loc[:, 'Log Sale Price']\n",
    "    return X, y"
   ]
  },
  {
   "cell_type": "code",
   "execution_count": 202,
   "metadata": {},
   "outputs": [],
   "source": [
    "full_data = pd.read_csv(\"cook_county_train.csv\")\n",
    "\n",
    "# Reload and preprocess the data for the 1st model\n",
    "train, test = train_test_split(full_data)\n",
    "\n",
    "\n",
    "final_model = lm.LinearRegression(fit_intercept=True)\n",
    "Xtn, ytn = process_data_fm(train)\n",
    "Xtt, ytt = process_data_fm(test)"
   ]
  },
  {
   "cell_type": "code",
   "execution_count": 203,
   "metadata": {},
   "outputs": [
    {
     "name": "stdout",
     "output_type": "stream",
     "text": [
      "final model (no log transform)\n",
      "Training RMSE: 213167.63719757448\n",
      "Test RMSE: 216554.10015542243\n",
      "\n"
     ]
    }
   ],
   "source": [
    "final_model.fit(Xtn, ytn)\n",
    "\n",
    "y_fitted_fm = final_model.predict(Xtn)\n",
    "y_predicted_fm = final_model.predict(Xtt)\n",
    "\n",
    "training_error_fm_delog = rmse(np.exp(y_fitted_fm), np.exp(ytn))\n",
    "test_error_fm_delog = rmse(np.exp(y_predicted_fm), np.exp(ytt))\n",
    "\n",
    "print(\"final model (no log transform)\\nTraining RMSE: {}\\nTest RMSE: {}\\n\".format(training_error_fm_delog, test_error_fm_delog))"
   ]
  },
  {
   "cell_type": "code",
   "execution_count": 204,
   "metadata": {
    "deletable": false,
    "editable": false
   },
   "outputs": [
    {
     "data": {
      "text/html": [
       "\n",
       "    <p><strong style='color: red;'>q8</strong></p>\n",
       "    <p><strong>Test result:</strong></p>\n",
       "    \n",
       "        <p><em>q8 - 1</em>\n",
       "        \n",
       "            <pre>Trying:\n",
       "    run_linear_regression_test(lm.LinearRegression(fit_intercept=True), process_data_fm, 80000, 'cook_county_train.csv', None, False)\n",
       "Expecting:\n",
       "    True\n",
       "**********************************************************************\n",
       "Line 1, in q8 0\n",
       "Failed example:\n",
       "    run_linear_regression_test(lm.LinearRegression(fit_intercept=True), process_data_fm, 80000, 'cook_county_train.csv', None, False)\n",
       "Expected:\n",
       "    True\n",
       "Got:\n",
       "    False\n",
       "</pre>\n",
       "        \n",
       "        </p>\n",
       "    \n",
       "        <p><em>q8 - 2</em>\n",
       "        \n",
       "            <pre>Trying:\n",
       "    run_linear_regression_test(lm.LinearRegression(fit_intercept=True), process_data_fm, 160000, 'cook_county_train.csv', None, False)\n",
       "Expecting:\n",
       "    True\n",
       "**********************************************************************\n",
       "Line 1, in q8 1\n",
       "Failed example:\n",
       "    run_linear_regression_test(lm.LinearRegression(fit_intercept=True), process_data_fm, 160000, 'cook_county_train.csv', None, False)\n",
       "Expected:\n",
       "    True\n",
       "Got:\n",
       "    False\n",
       "</pre>\n",
       "        \n",
       "        </p>\n",
       "    \n",
       "        <p><em>q8 - 3</em>\n",
       "        \n",
       "            <pre>Test case passed!</pre>\n",
       "        \n",
       "        </p>\n",
       "    \n",
       "        <p><em>q8 - 4</em>\n",
       "        \n",
       "            <pre>Trying:\n",
       "    run_linear_regression_test(lm.LinearRegression(fit_intercept=True), process_data_fm, 85000, 'cook_county_train.csv', 'cook_county_test_kaggle.csv', False)\n",
       "Expecting:\n",
       "    True\n",
       "**********************************************************************\n",
       "Line 1, in q8 3\n",
       "Failed example:\n",
       "    run_linear_regression_test(lm.LinearRegression(fit_intercept=True), process_data_fm, 85000, 'cook_county_train.csv', 'cook_county_test_kaggle.csv', False)\n",
       "Expected:\n",
       "    True\n",
       "Got:\n",
       "    False\n",
       "</pre>\n",
       "        \n",
       "        </p>\n",
       "    \n",
       "        <p><em>q8 - 5</em>\n",
       "        \n",
       "            <pre>Trying:\n",
       "    run_linear_regression_test(lm.LinearRegression(fit_intercept=True), process_data_fm, 165000, 'cook_county_train.csv', 'cook_county_test_kaggle.csv', False)\n",
       "Expecting:\n",
       "    True\n",
       "**********************************************************************\n",
       "Line 1, in q8 4\n",
       "Failed example:\n",
       "    run_linear_regression_test(lm.LinearRegression(fit_intercept=True), process_data_fm, 165000, 'cook_county_train.csv', 'cook_county_test_kaggle.csv', False)\n",
       "Expected:\n",
       "    True\n",
       "Got:\n",
       "    False\n",
       "</pre>\n",
       "        \n",
       "        </p>\n",
       "    \n",
       "        <p><em>q8 - 6</em>\n",
       "        \n",
       "            <pre>Test case passed!</pre>\n",
       "        \n",
       "        </p>\n",
       "    \n",
       "    "
      ],
      "text/plain": [
       "q8 results:\n",
       "\n",
       "Trying:\n",
       "    run_linear_regression_test(lm.LinearRegression(fit_intercept=True), process_data_fm, 80000, 'cook_county_train.csv', None, False)\n",
       "Expecting:\n",
       "    True\n",
       "**********************************************************************\n",
       "Line 1, in q8 0\n",
       "Failed example:\n",
       "    run_linear_regression_test(lm.LinearRegression(fit_intercept=True), process_data_fm, 80000, 'cook_county_train.csv', None, False)\n",
       "Expected:\n",
       "    True\n",
       "Got:\n",
       "    False\n",
       "\n",
       "Trying:\n",
       "    run_linear_regression_test(lm.LinearRegression(fit_intercept=True), process_data_fm, 160000, 'cook_county_train.csv', None, False)\n",
       "Expecting:\n",
       "    True\n",
       "**********************************************************************\n",
       "Line 1, in q8 1\n",
       "Failed example:\n",
       "    run_linear_regression_test(lm.LinearRegression(fit_intercept=True), process_data_fm, 160000, 'cook_county_train.csv', None, False)\n",
       "Expected:\n",
       "    True\n",
       "Got:\n",
       "    False\n",
       "\n",
       "Trying:\n",
       "    run_linear_regression_test(lm.LinearRegression(fit_intercept=True), process_data_fm, 85000, 'cook_county_train.csv', 'cook_county_test_kaggle.csv', False)\n",
       "Expecting:\n",
       "    True\n",
       "**********************************************************************\n",
       "Line 1, in q8 3\n",
       "Failed example:\n",
       "    run_linear_regression_test(lm.LinearRegression(fit_intercept=True), process_data_fm, 85000, 'cook_county_train.csv', 'cook_county_test_kaggle.csv', False)\n",
       "Expected:\n",
       "    True\n",
       "Got:\n",
       "    False\n",
       "\n",
       "Trying:\n",
       "    run_linear_regression_test(lm.LinearRegression(fit_intercept=True), process_data_fm, 165000, 'cook_county_train.csv', 'cook_county_test_kaggle.csv', False)\n",
       "Expecting:\n",
       "    True\n",
       "**********************************************************************\n",
       "Line 1, in q8 4\n",
       "Failed example:\n",
       "    run_linear_regression_test(lm.LinearRegression(fit_intercept=True), process_data_fm, 165000, 'cook_county_train.csv', 'cook_county_test_kaggle.csv', False)\n",
       "Expected:\n",
       "    True\n",
       "Got:\n",
       "    False"
      ]
     },
     "execution_count": 204,
     "metadata": {},
     "output_type": "execute_result"
    }
   ],
   "source": [
    "grader.check(\"q8\")"
   ]
  },
  {
   "cell_type": "markdown",
   "metadata": {},
   "source": [
    "## Congratulations! You have finished Homework 7!"
   ]
  },
  {
   "cell_type": "markdown",
   "metadata": {
    "deletable": false,
    "editable": false
   },
   "source": [
    "---\n",
    "\n",
    "To double-check your work, the cell below will rerun all of the autograder tests."
   ]
  },
  {
   "cell_type": "code",
   "execution_count": 205,
   "metadata": {
    "deletable": false,
    "editable": false
   },
   "outputs": [
    {
     "data": {
      "text/html": [
       "\n",
       "    <p><strong>q1ii</strong> passed!</p>\n",
       "    \n",
       "\n",
       "\n",
       "    <p><strong>q2i</strong> passed!</p>\n",
       "    \n",
       "\n",
       "\n",
       "    <p><strong>q2ii</strong> passed!</p>\n",
       "    \n",
       "\n",
       "\n",
       "    <p><strong>q3i</strong> passed!</p>\n",
       "    \n",
       "\n",
       "\n",
       "    <p><strong>q3ii</strong> passed!</p>\n",
       "    \n",
       "\n",
       "\n",
       "    <p><strong>q4i</strong> passed!</p>\n",
       "    \n",
       "\n",
       "\n",
       "    <p><strong>q4ii</strong> passed!</p>\n",
       "    \n",
       "\n",
       "\n",
       "    <p><strong>q5i</strong> passed!</p>\n",
       "    \n",
       "\n",
       "\n",
       "    <p><strong>q5ii</strong> passed!</p>\n",
       "    \n",
       "\n",
       "\n",
       "    <p><strong>q5iv</strong> passed!</p>\n",
       "    \n",
       "\n",
       "\n",
       "    <p><strong>q5v</strong> passed!</p>\n",
       "    \n",
       "\n",
       "\n",
       "    <p><strong>q6i</strong> passed!</p>\n",
       "    \n",
       "\n",
       "\n",
       "    <p><strong>q6ii</strong> passed!</p>\n",
       "    \n",
       "\n",
       "\n",
       "    <p><strong style='color: red;'>q7i</strong></p>\n",
       "    <p><strong>Test result:</strong></p>\n",
       "    \n",
       "        <p><em>q7i - 1</em>\n",
       "        \n",
       "            <pre>Trying:\n",
       "    train.shape == (135144, 72) # train should contain 80% of the data\n",
       "Expecting:\n",
       "    True\n",
       "**********************************************************************\n",
       "Line 1, in q7i 0\n",
       "Failed example:\n",
       "    train.shape == (135144, 72) # train should contain 80% of the data\n",
       "Expected:\n",
       "    True\n",
       "Got:\n",
       "    False\n",
       "</pre>\n",
       "        \n",
       "        </p>\n",
       "    \n",
       "        <p><em>q7i - 2</em>\n",
       "        \n",
       "            <pre>Trying:\n",
       "    test.shape == (33787, 72) # test should contain 20% of the data\n",
       "Expecting:\n",
       "    True\n",
       "**********************************************************************\n",
       "Line 1, in q7i 1\n",
       "Failed example:\n",
       "    test.shape == (33787, 72) # test should contain 20% of the data\n",
       "Expected:\n",
       "    True\n",
       "Got:\n",
       "    False\n",
       "</pre>\n",
       "        \n",
       "        </p>\n",
       "    \n",
       "        <p><em>q7i - 3</em>\n",
       "        \n",
       "            <pre>Trying:\n",
       "    np.isclose(sum(train['Log Sale Price']), 1644821.2169556788, atol=0.1) # If this doesn't match, you might have still answered the question, but please adjust your code so that your split matches ours by following the implementation instructions about using shuffled_indices to split the data.\n",
       "Expecting:\n",
       "    True\n",
       "**********************************************************************\n",
       "Line 1, in q7i 2\n",
       "Failed example:\n",
       "    np.isclose(sum(train['Log Sale Price']), 1644821.2169556788, atol=0.1) # If this doesn't match, you might have still answered the question, but please adjust your code so that your split matches ours by following the implementation instructions about using shuffled_indices to split the data.\n",
       "Exception raised:\n",
       "    Traceback (most recent call last):\n",
       "      File \"/opt/conda/lib/python3.8/site-packages/pandas/core/indexes/base.py\", line 3080, in get_loc\n",
       "        return self._engine.get_loc(casted_key)\n",
       "      File \"pandas/_libs/index.pyx\", line 70, in pandas._libs.index.IndexEngine.get_loc\n",
       "      File \"pandas/_libs/index.pyx\", line 101, in pandas._libs.index.IndexEngine.get_loc\n",
       "      File \"pandas/_libs/hashtable_class_helper.pxi\", line 4554, in pandas._libs.hashtable.PyObjectHashTable.get_item\n",
       "      File \"pandas/_libs/hashtable_class_helper.pxi\", line 4562, in pandas._libs.hashtable.PyObjectHashTable.get_item\n",
       "    KeyError: 'Log Sale Price'\n",
       "\n",
       "    The above exception was the direct cause of the following exception:\n",
       "\n",
       "    Traceback (most recent call last):\n",
       "      File \"/opt/conda/lib/python3.8/doctest.py\", line 1336, in __run\n",
       "        exec(compile(example.source, filename, \"single\",\n",
       "      File \"<doctest q7i 2[0]>\", line 1, in <module>\n",
       "        np.isclose(sum(train['Log Sale Price']), 1644821.2169556788, atol=0.1) # If this doesn't match, you might have still answered the question, but please adjust your code so that your split matches ours by following the implementation instructions about using shuffled_indices to split the data.\n",
       "      File \"/opt/conda/lib/python3.8/site-packages/pandas/core/frame.py\", line 3024, in __getitem__\n",
       "        indexer = self.columns.get_loc(key)\n",
       "      File \"/opt/conda/lib/python3.8/site-packages/pandas/core/indexes/base.py\", line 3082, in get_loc\n",
       "        raise KeyError(key) from err\n",
       "    KeyError: 'Log Sale Price'\n",
       "</pre>\n",
       "        \n",
       "        </p>\n",
       "    \n",
       "        <p><em>q7i - 4</em>\n",
       "        \n",
       "            <pre>Trying:\n",
       "    np.isclose(sum(test['Log Sale Price']), 410769.5181548676, atol=0.1) # If this doesn't match, you might have still answered the question, but please adjust your code so that your split matches ours by following the implementation instructions about using shuffled_indices to split the data.\n",
       "Expecting:\n",
       "    True\n",
       "**********************************************************************\n",
       "Line 1, in q7i 3\n",
       "Failed example:\n",
       "    np.isclose(sum(test['Log Sale Price']), 410769.5181548676, atol=0.1) # If this doesn't match, you might have still answered the question, but please adjust your code so that your split matches ours by following the implementation instructions about using shuffled_indices to split the data.\n",
       "Exception raised:\n",
       "    Traceback (most recent call last):\n",
       "      File \"/opt/conda/lib/python3.8/site-packages/pandas/core/indexes/base.py\", line 3080, in get_loc\n",
       "        return self._engine.get_loc(casted_key)\n",
       "      File \"pandas/_libs/index.pyx\", line 70, in pandas._libs.index.IndexEngine.get_loc\n",
       "      File \"pandas/_libs/index.pyx\", line 101, in pandas._libs.index.IndexEngine.get_loc\n",
       "      File \"pandas/_libs/hashtable_class_helper.pxi\", line 4554, in pandas._libs.hashtable.PyObjectHashTable.get_item\n",
       "      File \"pandas/_libs/hashtable_class_helper.pxi\", line 4562, in pandas._libs.hashtable.PyObjectHashTable.get_item\n",
       "    KeyError: 'Log Sale Price'\n",
       "\n",
       "    The above exception was the direct cause of the following exception:\n",
       "\n",
       "    Traceback (most recent call last):\n",
       "      File \"/opt/conda/lib/python3.8/doctest.py\", line 1336, in __run\n",
       "        exec(compile(example.source, filename, \"single\",\n",
       "      File \"<doctest q7i 3[0]>\", line 1, in <module>\n",
       "        np.isclose(sum(test['Log Sale Price']), 410769.5181548676, atol=0.1) # If this doesn't match, you might have still answered the question, but please adjust your code so that your split matches ours by following the implementation instructions about using shuffled_indices to split the data.\n",
       "      File \"/opt/conda/lib/python3.8/site-packages/pandas/core/frame.py\", line 3024, in __getitem__\n",
       "        indexer = self.columns.get_loc(key)\n",
       "      File \"/opt/conda/lib/python3.8/site-packages/pandas/core/indexes/base.py\", line 3082, in get_loc\n",
       "        raise KeyError(key) from err\n",
       "    KeyError: 'Log Sale Price'\n",
       "</pre>\n",
       "        \n",
       "        </p>\n",
       "    \n",
       "    \n",
       "\n",
       "\n",
       "    <p><strong>q7iii</strong> passed!</p>\n",
       "    \n",
       "\n",
       "\n",
       "    <p><strong>q7iv</strong> passed!</p>\n",
       "    \n",
       "\n",
       "\n",
       "    <p><strong>q7v</strong> passed!</p>\n",
       "    \n",
       "\n",
       "\n",
       "    <p><strong style='color: red;'>q8</strong></p>\n",
       "    <p><strong>Test result:</strong></p>\n",
       "    \n",
       "        <p><em>q8 - 1</em>\n",
       "        \n",
       "            <pre>Trying:\n",
       "    run_linear_regression_test(lm.LinearRegression(fit_intercept=True), process_data_fm, 80000, 'cook_county_train.csv', None, False)\n",
       "Expecting:\n",
       "    True\n",
       "**********************************************************************\n",
       "Line 1, in q8 0\n",
       "Failed example:\n",
       "    run_linear_regression_test(lm.LinearRegression(fit_intercept=True), process_data_fm, 80000, 'cook_county_train.csv', None, False)\n",
       "Expected:\n",
       "    True\n",
       "Got:\n",
       "    False\n",
       "</pre>\n",
       "        \n",
       "        </p>\n",
       "    \n",
       "        <p><em>q8 - 2</em>\n",
       "        \n",
       "            <pre>Trying:\n",
       "    run_linear_regression_test(lm.LinearRegression(fit_intercept=True), process_data_fm, 160000, 'cook_county_train.csv', None, False)\n",
       "Expecting:\n",
       "    True\n",
       "**********************************************************************\n",
       "Line 1, in q8 1\n",
       "Failed example:\n",
       "    run_linear_regression_test(lm.LinearRegression(fit_intercept=True), process_data_fm, 160000, 'cook_county_train.csv', None, False)\n",
       "Expected:\n",
       "    True\n",
       "Got:\n",
       "    False\n",
       "</pre>\n",
       "        \n",
       "        </p>\n",
       "    \n",
       "        <p><em>q8 - 3</em>\n",
       "        \n",
       "            <pre>Test case passed!</pre>\n",
       "        \n",
       "        </p>\n",
       "    \n",
       "        <p><em>q8 - 4</em>\n",
       "        \n",
       "            <pre>Trying:\n",
       "    run_linear_regression_test(lm.LinearRegression(fit_intercept=True), process_data_fm, 85000, 'cook_county_train.csv', 'cook_county_test_kaggle.csv', False)\n",
       "Expecting:\n",
       "    True\n",
       "**********************************************************************\n",
       "Line 1, in q8 3\n",
       "Failed example:\n",
       "    run_linear_regression_test(lm.LinearRegression(fit_intercept=True), process_data_fm, 85000, 'cook_county_train.csv', 'cook_county_test_kaggle.csv', False)\n",
       "Expected:\n",
       "    True\n",
       "Got:\n",
       "    False\n",
       "</pre>\n",
       "        \n",
       "        </p>\n",
       "    \n",
       "        <p><em>q8 - 5</em>\n",
       "        \n",
       "            <pre>Trying:\n",
       "    run_linear_regression_test(lm.LinearRegression(fit_intercept=True), process_data_fm, 165000, 'cook_county_train.csv', 'cook_county_test_kaggle.csv', False)\n",
       "Expecting:\n",
       "    True\n",
       "**********************************************************************\n",
       "Line 1, in q8 4\n",
       "Failed example:\n",
       "    run_linear_regression_test(lm.LinearRegression(fit_intercept=True), process_data_fm, 165000, 'cook_county_train.csv', 'cook_county_test_kaggle.csv', False)\n",
       "Expected:\n",
       "    True\n",
       "Got:\n",
       "    False\n",
       "</pre>\n",
       "        \n",
       "        </p>\n",
       "    \n",
       "        <p><em>q8 - 6</em>\n",
       "        \n",
       "            <pre>Test case passed!</pre>\n",
       "        \n",
       "        </p>\n",
       "    \n",
       "    \n",
       "\n"
      ],
      "text/plain": [
       "q1ii passed!\n",
       "\n",
       "q2i passed!\n",
       "\n",
       "q2ii passed!\n",
       "\n",
       "q3i passed!\n",
       "\n",
       "q3ii passed!\n",
       "\n",
       "q4i passed!\n",
       "\n",
       "q4ii passed!\n",
       "\n",
       "q5i passed!\n",
       "\n",
       "q5ii passed!\n",
       "\n",
       "q5iv passed!\n",
       "\n",
       "q5v passed!\n",
       "\n",
       "q6i passed!\n",
       "\n",
       "q6ii passed!\n",
       "\n",
       "q7i results:\n",
       "\n",
       "Trying:\n",
       "    train.shape == (135144, 72) # train should contain 80% of the data\n",
       "Expecting:\n",
       "    True\n",
       "**********************************************************************\n",
       "Line 1, in q7i 0\n",
       "Failed example:\n",
       "    train.shape == (135144, 72) # train should contain 80% of the data\n",
       "Expected:\n",
       "    True\n",
       "Got:\n",
       "    False\n",
       "\n",
       "Trying:\n",
       "    test.shape == (33787, 72) # test should contain 20% of the data\n",
       "Expecting:\n",
       "    True\n",
       "**********************************************************************\n",
       "Line 1, in q7i 1\n",
       "Failed example:\n",
       "    test.shape == (33787, 72) # test should contain 20% of the data\n",
       "Expected:\n",
       "    True\n",
       "Got:\n",
       "    False\n",
       "\n",
       "Trying:\n",
       "    np.isclose(sum(train['Log Sale Price']), 1644821.2169556788, atol=0.1) # If this doesn't match, you might have still answered the question, but please adjust your code so that your split matches ours by following the implementation instructions about using shuffled_indices to split the data.\n",
       "Expecting:\n",
       "    True\n",
       "**********************************************************************\n",
       "Line 1, in q7i 2\n",
       "Failed example:\n",
       "    np.isclose(sum(train['Log Sale Price']), 1644821.2169556788, atol=0.1) # If this doesn't match, you might have still answered the question, but please adjust your code so that your split matches ours by following the implementation instructions about using shuffled_indices to split the data.\n",
       "Exception raised:\n",
       "    Traceback (most recent call last):\n",
       "      File \"/opt/conda/lib/python3.8/site-packages/pandas/core/indexes/base.py\", line 3080, in get_loc\n",
       "        return self._engine.get_loc(casted_key)\n",
       "      File \"pandas/_libs/index.pyx\", line 70, in pandas._libs.index.IndexEngine.get_loc\n",
       "      File \"pandas/_libs/index.pyx\", line 101, in pandas._libs.index.IndexEngine.get_loc\n",
       "      File \"pandas/_libs/hashtable_class_helper.pxi\", line 4554, in pandas._libs.hashtable.PyObjectHashTable.get_item\n",
       "      File \"pandas/_libs/hashtable_class_helper.pxi\", line 4562, in pandas._libs.hashtable.PyObjectHashTable.get_item\n",
       "    KeyError: 'Log Sale Price'\n",
       "\n",
       "    The above exception was the direct cause of the following exception:\n",
       "\n",
       "    Traceback (most recent call last):\n",
       "      File \"/opt/conda/lib/python3.8/doctest.py\", line 1336, in __run\n",
       "        exec(compile(example.source, filename, \"single\",\n",
       "      File \"<doctest q7i 2[0]>\", line 1, in <module>\n",
       "        np.isclose(sum(train['Log Sale Price']), 1644821.2169556788, atol=0.1) # If this doesn't match, you might have still answered the question, but please adjust your code so that your split matches ours by following the implementation instructions about using shuffled_indices to split the data.\n",
       "      File \"/opt/conda/lib/python3.8/site-packages/pandas/core/frame.py\", line 3024, in __getitem__\n",
       "        indexer = self.columns.get_loc(key)\n",
       "      File \"/opt/conda/lib/python3.8/site-packages/pandas/core/indexes/base.py\", line 3082, in get_loc\n",
       "        raise KeyError(key) from err\n",
       "    KeyError: 'Log Sale Price'\n",
       "\n",
       "Trying:\n",
       "    np.isclose(sum(test['Log Sale Price']), 410769.5181548676, atol=0.1) # If this doesn't match, you might have still answered the question, but please adjust your code so that your split matches ours by following the implementation instructions about using shuffled_indices to split the data.\n",
       "Expecting:\n",
       "    True\n",
       "**********************************************************************\n",
       "Line 1, in q7i 3\n",
       "Failed example:\n",
       "    np.isclose(sum(test['Log Sale Price']), 410769.5181548676, atol=0.1) # If this doesn't match, you might have still answered the question, but please adjust your code so that your split matches ours by following the implementation instructions about using shuffled_indices to split the data.\n",
       "Exception raised:\n",
       "    Traceback (most recent call last):\n",
       "      File \"/opt/conda/lib/python3.8/site-packages/pandas/core/indexes/base.py\", line 3080, in get_loc\n",
       "        return self._engine.get_loc(casted_key)\n",
       "      File \"pandas/_libs/index.pyx\", line 70, in pandas._libs.index.IndexEngine.get_loc\n",
       "      File \"pandas/_libs/index.pyx\", line 101, in pandas._libs.index.IndexEngine.get_loc\n",
       "      File \"pandas/_libs/hashtable_class_helper.pxi\", line 4554, in pandas._libs.hashtable.PyObjectHashTable.get_item\n",
       "      File \"pandas/_libs/hashtable_class_helper.pxi\", line 4562, in pandas._libs.hashtable.PyObjectHashTable.get_item\n",
       "    KeyError: 'Log Sale Price'\n",
       "\n",
       "    The above exception was the direct cause of the following exception:\n",
       "\n",
       "    Traceback (most recent call last):\n",
       "      File \"/opt/conda/lib/python3.8/doctest.py\", line 1336, in __run\n",
       "        exec(compile(example.source, filename, \"single\",\n",
       "      File \"<doctest q7i 3[0]>\", line 1, in <module>\n",
       "        np.isclose(sum(test['Log Sale Price']), 410769.5181548676, atol=0.1) # If this doesn't match, you might have still answered the question, but please adjust your code so that your split matches ours by following the implementation instructions about using shuffled_indices to split the data.\n",
       "      File \"/opt/conda/lib/python3.8/site-packages/pandas/core/frame.py\", line 3024, in __getitem__\n",
       "        indexer = self.columns.get_loc(key)\n",
       "      File \"/opt/conda/lib/python3.8/site-packages/pandas/core/indexes/base.py\", line 3082, in get_loc\n",
       "        raise KeyError(key) from err\n",
       "    KeyError: 'Log Sale Price'\n",
       "\n",
       "\n",
       "q7iii passed!\n",
       "\n",
       "q7iv passed!\n",
       "\n",
       "q7v passed!\n",
       "\n",
       "q8 results:\n",
       "\n",
       "Trying:\n",
       "    run_linear_regression_test(lm.LinearRegression(fit_intercept=True), process_data_fm, 80000, 'cook_county_train.csv', None, False)\n",
       "Expecting:\n",
       "    True\n",
       "**********************************************************************\n",
       "Line 1, in q8 0\n",
       "Failed example:\n",
       "    run_linear_regression_test(lm.LinearRegression(fit_intercept=True), process_data_fm, 80000, 'cook_county_train.csv', None, False)\n",
       "Expected:\n",
       "    True\n",
       "Got:\n",
       "    False\n",
       "\n",
       "Trying:\n",
       "    run_linear_regression_test(lm.LinearRegression(fit_intercept=True), process_data_fm, 160000, 'cook_county_train.csv', None, False)\n",
       "Expecting:\n",
       "    True\n",
       "**********************************************************************\n",
       "Line 1, in q8 1\n",
       "Failed example:\n",
       "    run_linear_regression_test(lm.LinearRegression(fit_intercept=True), process_data_fm, 160000, 'cook_county_train.csv', None, False)\n",
       "Expected:\n",
       "    True\n",
       "Got:\n",
       "    False\n",
       "\n",
       "Trying:\n",
       "    run_linear_regression_test(lm.LinearRegression(fit_intercept=True), process_data_fm, 85000, 'cook_county_train.csv', 'cook_county_test_kaggle.csv', False)\n",
       "Expecting:\n",
       "    True\n",
       "**********************************************************************\n",
       "Line 1, in q8 3\n",
       "Failed example:\n",
       "    run_linear_regression_test(lm.LinearRegression(fit_intercept=True), process_data_fm, 85000, 'cook_county_train.csv', 'cook_county_test_kaggle.csv', False)\n",
       "Expected:\n",
       "    True\n",
       "Got:\n",
       "    False\n",
       "\n",
       "Trying:\n",
       "    run_linear_regression_test(lm.LinearRegression(fit_intercept=True), process_data_fm, 165000, 'cook_county_train.csv', 'cook_county_test_kaggle.csv', False)\n",
       "Expecting:\n",
       "    True\n",
       "**********************************************************************\n",
       "Line 1, in q8 4\n",
       "Failed example:\n",
       "    run_linear_regression_test(lm.LinearRegression(fit_intercept=True), process_data_fm, 165000, 'cook_county_train.csv', 'cook_county_test_kaggle.csv', False)\n",
       "Expected:\n",
       "    True\n",
       "Got:\n",
       "    False\n",
       "\n"
      ]
     },
     "execution_count": 205,
     "metadata": {},
     "output_type": "execute_result"
    }
   ],
   "source": [
    "grader.check_all()"
   ]
  },
  {
   "cell_type": "markdown",
   "metadata": {
    "deletable": false,
    "editable": false
   },
   "source": [
    "## Submission\n",
    "\n",
    "Make sure you have run all cells in your notebook in order before running the cell below, so that all images/graphs appear in the output. The cell below will generate a zip file for you to submit. **Please save before exporting!**"
   ]
  },
  {
   "cell_type": "code",
   "execution_count": 72,
   "metadata": {
    "deletable": false,
    "editable": false
   },
   "outputs": [
    {
     "data": {
      "application/javascript": [
       "Jupyter.notebook.save_checkpoint();"
      ],
      "text/plain": [
       "<IPython.core.display.Javascript object>"
      ]
     },
     "metadata": {},
     "output_type": "display_data"
    },
    {
     "data": {
      "text/html": [
       "\n",
       "                <p>Your submission has been exported. Click <a href=\"hw7.zip\" target=\"_blank\">here</a>\n",
       "                to download the zip file.</p>\n",
       "                "
      ],
      "text/plain": [
       "<IPython.core.display.HTML object>"
      ]
     },
     "metadata": {},
     "output_type": "display_data"
    }
   ],
   "source": [
    "# Save your notebook first, then run this cell to export your submission.\n",
    "grader.export()"
   ]
  },
  {
   "cell_type": "markdown",
   "metadata": {},
   "source": [
    " "
   ]
  }
 ],
 "metadata": {
  "celltoolbar": "Create Assignment",
  "kernelspec": {
   "display_name": "Python 3",
   "language": "python",
   "name": "python3"
  },
  "language_info": {
   "codemirror_mode": {
    "name": "ipython",
    "version": 3
   },
   "file_extension": ".py",
   "mimetype": "text/x-python",
   "name": "python",
   "nbconvert_exporter": "python",
   "pygments_lexer": "ipython3",
   "version": "3.8.8"
  }
 },
 "nbformat": 4,
 "nbformat_minor": 2
}
